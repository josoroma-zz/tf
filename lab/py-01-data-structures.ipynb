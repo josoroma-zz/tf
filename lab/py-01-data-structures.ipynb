{
 "cells": [
  {
   "cell_type": "markdown",
   "metadata": {},
   "source": [
    "# Data Structures"
   ]
  },
  {
   "cell_type": "code",
   "execution_count": 1,
   "metadata": {
    "collapsed": true
   },
   "outputs": [],
   "source": [
    "ninjas = [\n",
    "    'Hattori Hanzō',\n",
    "    'Kumawakamaru',\n",
    "    'Yagyū Munetoshi',\n",
    "    'Hattori Hanzō',\n",
    "    'Ishikawa Goemon',\n",
    "    'Fūma Kotarō',\n",
    "    'Mochizuki Chiyome',\n",
    "    'Momochi Sandayū',\n",
    "    'Fujibayashi Nagato',\n",
    "    'Hattori Hanzō'\n",
    "]"
   ]
  },
  {
   "cell_type": "markdown",
   "metadata": {},
   "source": [
    "## Lists"
   ]
  },
  {
   "cell_type": "code",
   "execution_count": 2,
   "metadata": {},
   "outputs": [
    {
     "data": {
      "text/plain": [
       "['Hattori Hanzō',\n",
       " 'Kumawakamaru',\n",
       " 'Yagyū Munetoshi',\n",
       " 'Hattori Hanzō',\n",
       " 'Ishikawa Goemon',\n",
       " 'Fūma Kotarō',\n",
       " 'Mochizuki Chiyome',\n",
       " 'Momochi Sandayū',\n",
       " 'Fujibayashi Nagato',\n",
       " 'Hattori Hanzō']"
      ]
     },
     "execution_count": 2,
     "metadata": {},
     "output_type": "execute_result"
    }
   ],
   "source": [
    "ninjas"
   ]
  },
  {
   "cell_type": "code",
   "execution_count": 3,
   "metadata": {},
   "outputs": [
    {
     "data": {
      "text/plain": [
       "3"
      ]
     },
     "execution_count": 3,
     "metadata": {},
     "output_type": "execute_result"
    }
   ],
   "source": [
    "ninjas.count('Hattori Hanzō')"
   ]
  },
  {
   "cell_type": "code",
   "execution_count": 4,
   "metadata": {},
   "outputs": [
    {
     "data": {
      "text/plain": [
       "0"
      ]
     },
     "execution_count": 4,
     "metadata": {},
     "output_type": "execute_result"
    }
   ],
   "source": [
    "ninjas.count('Homma Saburō')"
   ]
  },
  {
   "cell_type": "code",
   "execution_count": 5,
   "metadata": {},
   "outputs": [
    {
     "data": {
      "text/plain": [
       "2"
      ]
     },
     "execution_count": 5,
     "metadata": {},
     "output_type": "execute_result"
    }
   ],
   "source": [
    "ninjas.index('Yagyū Munetoshi')"
   ]
  },
  {
   "cell_type": "code",
   "execution_count": 6,
   "metadata": {},
   "outputs": [
    {
     "data": {
      "text/plain": [
       "0"
      ]
     },
     "execution_count": 6,
     "metadata": {},
     "output_type": "execute_result"
    }
   ],
   "source": [
    "ninjas.index('Hattori Hanzō')"
   ]
  },
  {
   "cell_type": "code",
   "execution_count": 7,
   "metadata": {},
   "outputs": [
    {
     "data": {
      "text/plain": [
       "3"
      ]
     },
     "execution_count": 7,
     "metadata": {},
     "output_type": "execute_result"
    }
   ],
   "source": [
    "ninjas.index('Hattori Hanzō', 1) # Find next ninja starting a position 1"
   ]
  },
  {
   "cell_type": "code",
   "execution_count": 8,
   "metadata": {},
   "outputs": [
    {
     "data": {
      "text/plain": [
       "9"
      ]
     },
     "execution_count": 8,
     "metadata": {},
     "output_type": "execute_result"
    }
   ],
   "source": [
    "ninjas.index('Hattori Hanzō', 4) # Find next ninja starting a position 4"
   ]
  },
  {
   "cell_type": "code",
   "execution_count": 9,
   "metadata": {},
   "outputs": [
    {
     "data": {
      "text/plain": [
       "['Hattori Hanzō',\n",
       " 'Fujibayashi Nagato',\n",
       " 'Momochi Sandayū',\n",
       " 'Mochizuki Chiyome',\n",
       " 'Fūma Kotarō',\n",
       " 'Ishikawa Goemon',\n",
       " 'Hattori Hanzō',\n",
       " 'Yagyū Munetoshi',\n",
       " 'Kumawakamaru',\n",
       " 'Hattori Hanzō']"
      ]
     },
     "execution_count": 9,
     "metadata": {},
     "output_type": "execute_result"
    }
   ],
   "source": [
    "ninjas.reverse()\n",
    "\n",
    "ninjas"
   ]
  },
  {
   "cell_type": "code",
   "execution_count": 10,
   "metadata": {},
   "outputs": [
    {
     "data": {
      "text/plain": [
       "['Hattori Hanzō',\n",
       " 'Kumawakamaru',\n",
       " 'Yagyū Munetoshi',\n",
       " 'Hattori Hanzō',\n",
       " 'Ishikawa Goemon',\n",
       " 'Fūma Kotarō',\n",
       " 'Mochizuki Chiyome',\n",
       " 'Momochi Sandayū',\n",
       " 'Fujibayashi Nagato',\n",
       " 'Hattori Hanzō']"
      ]
     },
     "execution_count": 10,
     "metadata": {},
     "output_type": "execute_result"
    }
   ],
   "source": [
    "ninjas.reverse()\n",
    "\n",
    "ninjas"
   ]
  },
  {
   "cell_type": "code",
   "execution_count": 11,
   "metadata": {},
   "outputs": [
    {
     "data": {
      "text/plain": [
       "['Hattori Hanzō',\n",
       " 'Kumawakamaru',\n",
       " 'Yagyū Munetoshi',\n",
       " 'Hattori Hanzō',\n",
       " 'Ishikawa Goemon',\n",
       " 'Fūma Kotarō',\n",
       " 'Mochizuki Chiyome',\n",
       " 'Momochi Sandayū',\n",
       " 'Fujibayashi Nagato',\n",
       " 'Hattori Hanzō',\n",
       " 'Kamiizumi Ise-no-Kami Nobutsuna']"
      ]
     },
     "execution_count": 11,
     "metadata": {},
     "output_type": "execute_result"
    }
   ],
   "source": [
    "ninjas.append('Kamiizumi Ise-no-Kami Nobutsuna')\n",
    "\n",
    "ninjas"
   ]
  },
  {
   "cell_type": "code",
   "execution_count": 12,
   "metadata": {},
   "outputs": [
    {
     "data": {
      "text/plain": [
       "'Kamiizumi Ise-no-Kami Nobutsuna'"
      ]
     },
     "execution_count": 12,
     "metadata": {},
     "output_type": "execute_result"
    }
   ],
   "source": [
    "ninjas.pop()"
   ]
  },
  {
   "cell_type": "code",
   "execution_count": 13,
   "metadata": {},
   "outputs": [
    {
     "data": {
      "text/plain": [
       "['Hattori Hanzō',\n",
       " 'Kumawakamaru',\n",
       " 'Yagyū Munetoshi',\n",
       " 'Hattori Hanzō',\n",
       " 'Ishikawa Goemon',\n",
       " 'Fūma Kotarō',\n",
       " 'Mochizuki Chiyome',\n",
       " 'Momochi Sandayū',\n",
       " 'Fujibayashi Nagato',\n",
       " 'Hattori Hanzō']"
      ]
     },
     "execution_count": 13,
     "metadata": {},
     "output_type": "execute_result"
    }
   ],
   "source": [
    "ninjas"
   ]
  },
  {
   "cell_type": "code",
   "execution_count": 14,
   "metadata": {},
   "outputs": [
    {
     "data": {
      "text/plain": [
       "['Fujibayashi Nagato',\n",
       " 'Fūma Kotarō',\n",
       " 'Hattori Hanzō',\n",
       " 'Hattori Hanzō',\n",
       " 'Hattori Hanzō',\n",
       " 'Ishikawa Goemon',\n",
       " 'Kumawakamaru',\n",
       " 'Mochizuki Chiyome',\n",
       " 'Momochi Sandayū',\n",
       " 'Yagyū Munetoshi']"
      ]
     },
     "execution_count": 14,
     "metadata": {},
     "output_type": "execute_result"
    }
   ],
   "source": [
    "ninjas.sort()\n",
    "    \n",
    "ninjas"
   ]
  },
  {
   "cell_type": "markdown",
   "metadata": {},
   "source": [
    "### Lists as stacks"
   ]
  },
  {
   "cell_type": "code",
   "execution_count": 15,
   "metadata": {},
   "outputs": [
    {
     "data": {
      "text/plain": [
       "['Ishikawa Goemon',\n",
       " 'Yagyū Munetoshi',\n",
       " 'Mochizuki Chiyome',\n",
       " 'Fūma Kotarō',\n",
       " 'Momochi Sandayū',\n",
       " 'Fujibayashi Nagato',\n",
       " 'Hattori Hanzō',\n",
       " 'Kumawakamaru']"
      ]
     },
     "execution_count": 15,
     "metadata": {},
     "output_type": "execute_result"
    }
   ],
   "source": [
    "ninjas = list(set(ninjas))\n",
    "\n",
    "ninjas"
   ]
  },
  {
   "cell_type": "code",
   "execution_count": 16,
   "metadata": {},
   "outputs": [
    {
     "data": {
      "text/plain": [
       "['Ishikawa Goemon',\n",
       " 'Yagyū Munetoshi',\n",
       " 'Mochizuki Chiyome',\n",
       " 'Fūma Kotarō',\n",
       " 'Momochi Sandayū',\n",
       " 'Fujibayashi Nagato',\n",
       " 'Hattori Hanzō',\n",
       " 'Kumawakamaru',\n",
       " 'Guido van Rossum',\n",
       " 'Guido van Rossum']"
      ]
     },
     "execution_count": 16,
     "metadata": {},
     "output_type": "execute_result"
    }
   ],
   "source": [
    "ninjas.append('Guido van Rossum')\n",
    "\n",
    "ninjas\n",
    "\n",
    "ninjas.insert(len(ninjas), 'Guido van Rossum')\n",
    "\n",
    "ninjas"
   ]
  },
  {
   "cell_type": "code",
   "execution_count": 17,
   "metadata": {},
   "outputs": [
    {
     "data": {
      "text/plain": [
       "['Ishikawa Goemon',\n",
       " 'Yagyū Munetoshi',\n",
       " 'Mochizuki Chiyome',\n",
       " 'Fūma Kotarō',\n",
       " 'Momochi Sandayū',\n",
       " 'Fujibayashi Nagato',\n",
       " 'Hattori Hanzō',\n",
       " 'Kumawakamaru',\n",
       " 'Guido van Rossum']"
      ]
     },
     "execution_count": 17,
     "metadata": {},
     "output_type": "execute_result"
    }
   ],
   "source": [
    "ninjas.pop()\n",
    "\n",
    "ninjas"
   ]
  },
  {
   "cell_type": "markdown",
   "metadata": {},
   "source": [
    "### Lists as queues"
   ]
  },
  {
   "cell_type": "code",
   "execution_count": 18,
   "metadata": {},
   "outputs": [
    {
     "data": {
      "text/plain": [
       "deque(['Hattori Hanzō', 'Fūma Kotarō', 'Momochi Sandayū'])"
      ]
     },
     "execution_count": 18,
     "metadata": {},
     "output_type": "execute_result"
    }
   ],
   "source": [
    "from collections import deque\n",
    "\n",
    "queue = deque([\n",
    "    'Hattori Hanzō',\n",
    "    'Fūma Kotarō',\n",
    "    'Momochi Sandayū'\n",
    "])\n",
    "\n",
    "queue"
   ]
  },
  {
   "cell_type": "code",
   "execution_count": 19,
   "metadata": {},
   "outputs": [
    {
     "data": {
      "text/plain": [
       "deque(['Hattori Hanzō', 'Fūma Kotarō', 'Momochi Sandayū', 'Guido van Rossum'])"
      ]
     },
     "execution_count": 19,
     "metadata": {},
     "output_type": "execute_result"
    }
   ],
   "source": [
    "queue.append('Guido van Rossum')\n",
    "\n",
    "queue"
   ]
  },
  {
   "cell_type": "code",
   "execution_count": 20,
   "metadata": {},
   "outputs": [
    {
     "data": {
      "text/plain": [
       "deque(['Fūma Kotarō', 'Momochi Sandayū', 'Guido van Rossum'])"
      ]
     },
     "execution_count": 20,
     "metadata": {},
     "output_type": "execute_result"
    }
   ],
   "source": [
    "queue.popleft()\n",
    "\n",
    "queue"
   ]
  },
  {
   "cell_type": "markdown",
   "metadata": {},
   "source": [
    "#### insert(0, new) and pop(0)"
   ]
  },
  {
   "cell_type": "code",
   "execution_count": 21,
   "metadata": {},
   "outputs": [
    {
     "data": {
      "text/plain": [
       "['Guido van Rossum',\n",
       " 'Ishikawa Goemon',\n",
       " 'Yagyū Munetoshi',\n",
       " 'Mochizuki Chiyome',\n",
       " 'Fūma Kotarō',\n",
       " 'Momochi Sandayū',\n",
       " 'Fujibayashi Nagato',\n",
       " 'Hattori Hanzō',\n",
       " 'Kumawakamaru',\n",
       " 'Guido van Rossum']"
      ]
     },
     "execution_count": 21,
     "metadata": {},
     "output_type": "execute_result"
    }
   ],
   "source": [
    "ninjas.insert(0, 'Guido van Rossum')\n",
    "\n",
    "ninjas"
   ]
  },
  {
   "cell_type": "code",
   "execution_count": 22,
   "metadata": {},
   "outputs": [
    {
     "data": {
      "text/plain": [
       "['Ishikawa Goemon',\n",
       " 'Yagyū Munetoshi',\n",
       " 'Mochizuki Chiyome',\n",
       " 'Fūma Kotarō',\n",
       " 'Momochi Sandayū',\n",
       " 'Fujibayashi Nagato',\n",
       " 'Hattori Hanzō',\n",
       " 'Kumawakamaru',\n",
       " 'Guido van Rossum']"
      ]
     },
     "execution_count": 22,
     "metadata": {},
     "output_type": "execute_result"
    }
   ],
   "source": [
    "ninjas.pop(0)\n",
    "\n",
    "ninjas"
   ]
  }
 ],
 "metadata": {
  "kernelspec": {
   "display_name": "Python 3",
   "language": "python",
   "name": "python3"
  },
  "language_info": {
   "codemirror_mode": {
    "name": "ipython",
    "version": 3
   },
   "file_extension": ".py",
   "mimetype": "text/x-python",
   "name": "python",
   "nbconvert_exporter": "python",
   "pygments_lexer": "ipython3",
   "version": "3.6.1"
  }
 },
 "nbformat": 4,
 "nbformat_minor": 2
}
