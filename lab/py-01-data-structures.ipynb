{
 "cells": [
  {
   "cell_type": "markdown",
   "metadata": {},
   "source": [
    "# Data Structures\n",
    "\n",
    " * https://docs.python.org/3/tutorial/datastructures.html"
   ]
  },
  {
   "cell_type": "code",
   "execution_count": 1,
   "metadata": {
    "collapsed": true
   },
   "outputs": [],
   "source": [
    "ninjas = [\n",
    "    'Hattori Hanzō',\n",
    "    'Kumawakamaru',\n",
    "    'Yagyū Munetoshi',\n",
    "    'Hattori Hanzō',\n",
    "    'Ishikawa Goemon',\n",
    "    'Fūma Kotarō',\n",
    "    'Mochizuki Chiyome',\n",
    "    'Momochi Sandayū',\n",
    "    'Fujibayashi Nagato',\n",
    "    'Hattori Hanzō'\n",
    "]"
   ]
  },
  {
   "cell_type": "markdown",
   "metadata": {},
   "source": [
    "## Lists"
   ]
  },
  {
   "cell_type": "code",
   "execution_count": 2,
   "metadata": {},
   "outputs": [
    {
     "data": {
      "text/plain": [
       "['Hattori Hanzō',\n",
       " 'Kumawakamaru',\n",
       " 'Yagyū Munetoshi',\n",
       " 'Hattori Hanzō',\n",
       " 'Ishikawa Goemon',\n",
       " 'Fūma Kotarō',\n",
       " 'Mochizuki Chiyome',\n",
       " 'Momochi Sandayū',\n",
       " 'Fujibayashi Nagato',\n",
       " 'Hattori Hanzō']"
      ]
     },
     "execution_count": 2,
     "metadata": {},
     "output_type": "execute_result"
    }
   ],
   "source": [
    "ninjas"
   ]
  },
  {
   "cell_type": "code",
   "execution_count": 3,
   "metadata": {},
   "outputs": [
    {
     "data": {
      "text/plain": [
       "3"
      ]
     },
     "execution_count": 3,
     "metadata": {},
     "output_type": "execute_result"
    }
   ],
   "source": [
    "ninjas.count('Hattori Hanzō')"
   ]
  },
  {
   "cell_type": "code",
   "execution_count": 4,
   "metadata": {},
   "outputs": [
    {
     "data": {
      "text/plain": [
       "0"
      ]
     },
     "execution_count": 4,
     "metadata": {},
     "output_type": "execute_result"
    }
   ],
   "source": [
    "ninjas.count('Homma Saburō')"
   ]
  },
  {
   "cell_type": "code",
   "execution_count": 5,
   "metadata": {},
   "outputs": [
    {
     "data": {
      "text/plain": [
       "2"
      ]
     },
     "execution_count": 5,
     "metadata": {},
     "output_type": "execute_result"
    }
   ],
   "source": [
    "ninjas.index('Yagyū Munetoshi')"
   ]
  },
  {
   "cell_type": "code",
   "execution_count": 6,
   "metadata": {},
   "outputs": [
    {
     "data": {
      "text/plain": [
       "0"
      ]
     },
     "execution_count": 6,
     "metadata": {},
     "output_type": "execute_result"
    }
   ],
   "source": [
    "ninjas.index('Hattori Hanzō')"
   ]
  },
  {
   "cell_type": "code",
   "execution_count": 7,
   "metadata": {},
   "outputs": [
    {
     "data": {
      "text/plain": [
       "3"
      ]
     },
     "execution_count": 7,
     "metadata": {},
     "output_type": "execute_result"
    }
   ],
   "source": [
    "ninjas.index('Hattori Hanzō', 1) # Find next ninja starting at position 1"
   ]
  },
  {
   "cell_type": "code",
   "execution_count": 8,
   "metadata": {},
   "outputs": [
    {
     "data": {
      "text/plain": [
       "9"
      ]
     },
     "execution_count": 8,
     "metadata": {},
     "output_type": "execute_result"
    }
   ],
   "source": [
    "ninjas.index('Hattori Hanzō', 4) # Find next ninja starting at position 4"
   ]
  },
  {
   "cell_type": "code",
   "execution_count": 9,
   "metadata": {},
   "outputs": [
    {
     "data": {
      "text/plain": [
       "['Hattori Hanzō',\n",
       " 'Fujibayashi Nagato',\n",
       " 'Momochi Sandayū',\n",
       " 'Mochizuki Chiyome',\n",
       " 'Fūma Kotarō',\n",
       " 'Ishikawa Goemon',\n",
       " 'Hattori Hanzō',\n",
       " 'Yagyū Munetoshi',\n",
       " 'Kumawakamaru',\n",
       " 'Hattori Hanzō']"
      ]
     },
     "execution_count": 9,
     "metadata": {},
     "output_type": "execute_result"
    }
   ],
   "source": [
    "ninjas.reverse()\n",
    "\n",
    "ninjas"
   ]
  },
  {
   "cell_type": "code",
   "execution_count": 10,
   "metadata": {},
   "outputs": [
    {
     "data": {
      "text/plain": [
       "['Hattori Hanzō',\n",
       " 'Kumawakamaru',\n",
       " 'Yagyū Munetoshi',\n",
       " 'Hattori Hanzō',\n",
       " 'Ishikawa Goemon',\n",
       " 'Fūma Kotarō',\n",
       " 'Mochizuki Chiyome',\n",
       " 'Momochi Sandayū',\n",
       " 'Fujibayashi Nagato',\n",
       " 'Hattori Hanzō']"
      ]
     },
     "execution_count": 10,
     "metadata": {},
     "output_type": "execute_result"
    }
   ],
   "source": [
    "ninjas.reverse()\n",
    "\n",
    "ninjas"
   ]
  },
  {
   "cell_type": "code",
   "execution_count": 11,
   "metadata": {},
   "outputs": [
    {
     "data": {
      "text/plain": [
       "['Hattori Hanzō',\n",
       " 'Kumawakamaru',\n",
       " 'Yagyū Munetoshi',\n",
       " 'Hattori Hanzō',\n",
       " 'Ishikawa Goemon',\n",
       " 'Fūma Kotarō',\n",
       " 'Mochizuki Chiyome',\n",
       " 'Momochi Sandayū',\n",
       " 'Fujibayashi Nagato',\n",
       " 'Hattori Hanzō',\n",
       " 'Kamiizumi Ise-no-Kami Nobutsuna']"
      ]
     },
     "execution_count": 11,
     "metadata": {},
     "output_type": "execute_result"
    }
   ],
   "source": [
    "ninjas.append('Kamiizumi Ise-no-Kami Nobutsuna')\n",
    "\n",
    "ninjas"
   ]
  },
  {
   "cell_type": "code",
   "execution_count": 12,
   "metadata": {},
   "outputs": [
    {
     "data": {
      "text/plain": [
       "'Kamiizumi Ise-no-Kami Nobutsuna'"
      ]
     },
     "execution_count": 12,
     "metadata": {},
     "output_type": "execute_result"
    }
   ],
   "source": [
    "ninjas.pop()"
   ]
  },
  {
   "cell_type": "code",
   "execution_count": 13,
   "metadata": {},
   "outputs": [
    {
     "data": {
      "text/plain": [
       "['Hattori Hanzō',\n",
       " 'Kumawakamaru',\n",
       " 'Yagyū Munetoshi',\n",
       " 'Hattori Hanzō',\n",
       " 'Ishikawa Goemon',\n",
       " 'Fūma Kotarō',\n",
       " 'Mochizuki Chiyome',\n",
       " 'Momochi Sandayū',\n",
       " 'Fujibayashi Nagato',\n",
       " 'Hattori Hanzō']"
      ]
     },
     "execution_count": 13,
     "metadata": {},
     "output_type": "execute_result"
    }
   ],
   "source": [
    "ninjas"
   ]
  },
  {
   "cell_type": "code",
   "execution_count": 14,
   "metadata": {},
   "outputs": [
    {
     "data": {
      "text/plain": [
       "['Fujibayashi Nagato',\n",
       " 'Fūma Kotarō',\n",
       " 'Hattori Hanzō',\n",
       " 'Hattori Hanzō',\n",
       " 'Hattori Hanzō',\n",
       " 'Ishikawa Goemon',\n",
       " 'Kumawakamaru',\n",
       " 'Mochizuki Chiyome',\n",
       " 'Momochi Sandayū',\n",
       " 'Yagyū Munetoshi']"
      ]
     },
     "execution_count": 14,
     "metadata": {},
     "output_type": "execute_result"
    }
   ],
   "source": [
    "ninjas.sort()\n",
    "    \n",
    "ninjas"
   ]
  },
  {
   "cell_type": "markdown",
   "metadata": {},
   "source": [
    "### Lists as stacks"
   ]
  },
  {
   "cell_type": "code",
   "execution_count": 15,
   "metadata": {},
   "outputs": [
    {
     "data": {
      "text/plain": [
       "['Yagyū Munetoshi',\n",
       " 'Kumawakamaru',\n",
       " 'Ishikawa Goemon',\n",
       " 'Momochi Sandayū',\n",
       " 'Hattori Hanzō',\n",
       " 'Mochizuki Chiyome',\n",
       " 'Fūma Kotarō',\n",
       " 'Fujibayashi Nagato']"
      ]
     },
     "execution_count": 15,
     "metadata": {},
     "output_type": "execute_result"
    }
   ],
   "source": [
    "ninjas = list(set(ninjas))\n",
    "\n",
    "ninjas"
   ]
  },
  {
   "cell_type": "code",
   "execution_count": 16,
   "metadata": {},
   "outputs": [
    {
     "data": {
      "text/plain": [
       "['Yagyū Munetoshi',\n",
       " 'Kumawakamaru',\n",
       " 'Ishikawa Goemon',\n",
       " 'Momochi Sandayū',\n",
       " 'Hattori Hanzō',\n",
       " 'Mochizuki Chiyome',\n",
       " 'Fūma Kotarō',\n",
       " 'Fujibayashi Nagato',\n",
       " 'Guido van Rossum',\n",
       " 'Guido van Rossum']"
      ]
     },
     "execution_count": 16,
     "metadata": {},
     "output_type": "execute_result"
    }
   ],
   "source": [
    "ninjas.append('Guido van Rossum')\n",
    "\n",
    "ninjas\n",
    "\n",
    "ninjas.insert(len(ninjas), 'Guido van Rossum')\n",
    "\n",
    "ninjas"
   ]
  },
  {
   "cell_type": "code",
   "execution_count": 17,
   "metadata": {},
   "outputs": [
    {
     "data": {
      "text/plain": [
       "['Yagyū Munetoshi',\n",
       " 'Kumawakamaru',\n",
       " 'Ishikawa Goemon',\n",
       " 'Momochi Sandayū',\n",
       " 'Hattori Hanzō',\n",
       " 'Mochizuki Chiyome',\n",
       " 'Fūma Kotarō',\n",
       " 'Fujibayashi Nagato',\n",
       " 'Guido van Rossum']"
      ]
     },
     "execution_count": 17,
     "metadata": {},
     "output_type": "execute_result"
    }
   ],
   "source": [
    "ninjas.pop()\n",
    "\n",
    "ninjas"
   ]
  },
  {
   "cell_type": "markdown",
   "metadata": {},
   "source": [
    "### Lists as queues"
   ]
  },
  {
   "cell_type": "code",
   "execution_count": 18,
   "metadata": {},
   "outputs": [
    {
     "data": {
      "text/plain": [
       "deque(['Hattori Hanzō', 'Fūma Kotarō', 'Momochi Sandayū'])"
      ]
     },
     "execution_count": 18,
     "metadata": {},
     "output_type": "execute_result"
    }
   ],
   "source": [
    "from collections import deque\n",
    "\n",
    "queue = deque([\n",
    "    'Hattori Hanzō',\n",
    "    'Fūma Kotarō',\n",
    "    'Momochi Sandayū'\n",
    "])\n",
    "\n",
    "queue"
   ]
  },
  {
   "cell_type": "code",
   "execution_count": 19,
   "metadata": {},
   "outputs": [
    {
     "data": {
      "text/plain": [
       "deque(['Hattori Hanzō', 'Fūma Kotarō', 'Momochi Sandayū', 'Guido van Rossum'])"
      ]
     },
     "execution_count": 19,
     "metadata": {},
     "output_type": "execute_result"
    }
   ],
   "source": [
    "queue.append('Guido van Rossum')\n",
    "\n",
    "queue"
   ]
  },
  {
   "cell_type": "code",
   "execution_count": 20,
   "metadata": {},
   "outputs": [
    {
     "data": {
      "text/plain": [
       "deque(['Fūma Kotarō', 'Momochi Sandayū', 'Guido van Rossum'])"
      ]
     },
     "execution_count": 20,
     "metadata": {},
     "output_type": "execute_result"
    }
   ],
   "source": [
    "queue.popleft()\n",
    "\n",
    "queue"
   ]
  },
  {
   "cell_type": "markdown",
   "metadata": {},
   "source": [
    "#### insert(0, new) and pop(0)"
   ]
  },
  {
   "cell_type": "code",
   "execution_count": 21,
   "metadata": {},
   "outputs": [
    {
     "data": {
      "text/plain": [
       "['Guido van Rossum',\n",
       " 'Yagyū Munetoshi',\n",
       " 'Kumawakamaru',\n",
       " 'Ishikawa Goemon',\n",
       " 'Momochi Sandayū',\n",
       " 'Hattori Hanzō',\n",
       " 'Mochizuki Chiyome',\n",
       " 'Fūma Kotarō',\n",
       " 'Fujibayashi Nagato',\n",
       " 'Guido van Rossum']"
      ]
     },
     "execution_count": 21,
     "metadata": {},
     "output_type": "execute_result"
    }
   ],
   "source": [
    "ninjas.insert(0, 'Guido van Rossum')\n",
    "\n",
    "ninjas"
   ]
  },
  {
   "cell_type": "code",
   "execution_count": 22,
   "metadata": {},
   "outputs": [
    {
     "data": {
      "text/plain": [
       "['Yagyū Munetoshi',\n",
       " 'Kumawakamaru',\n",
       " 'Ishikawa Goemon',\n",
       " 'Momochi Sandayū',\n",
       " 'Hattori Hanzō',\n",
       " 'Mochizuki Chiyome',\n",
       " 'Fūma Kotarō',\n",
       " 'Fujibayashi Nagato',\n",
       " 'Guido van Rossum']"
      ]
     },
     "execution_count": 22,
     "metadata": {},
     "output_type": "execute_result"
    }
   ],
   "source": [
    "ninjas.pop(0)\n",
    "\n",
    "ninjas"
   ]
  },
  {
   "cell_type": "markdown",
   "metadata": {},
   "source": [
    "### List Comprehensions"
   ]
  },
  {
   "cell_type": "code",
   "execution_count": 23,
   "metadata": {},
   "outputs": [
    {
     "data": {
      "text/plain": [
       "[['You', 'You', 3],\n",
       " [\"talkin'\", \"Talkin'\", 7],\n",
       " ['to', 'To', 2],\n",
       " ['me?', 'Me?', 3]]"
      ]
     },
     "execution_count": 23,
     "metadata": {},
     "output_type": "execute_result"
    }
   ],
   "source": [
    "quote = \"You talkin' to me?\".split()\n",
    "\n",
    "data = list(map(lambda q: [q, q.title(), len(q)], quote))\n",
    "\n",
    "data"
   ]
  },
  {
   "cell_type": "markdown",
   "metadata": {},
   "source": [
    " * It is often preferable to use a list comprehension, because this is more efficient and easier to read, most of the time.\n",
    "\n",
    " * We can think of list comprehensions as syntactic sugar for a filter followed by a map."
   ]
  },
  {
   "cell_type": "code",
   "execution_count": 24,
   "metadata": {},
   "outputs": [
    {
     "data": {
      "text/plain": [
       "[['You', 'You', 3],\n",
       " [\"talkin'\", \"Talkin'\", 7],\n",
       " ['to', 'To', 2],\n",
       " ['me?', 'Me?', 3]]"
      ]
     },
     "execution_count": 24,
     "metadata": {},
     "output_type": "execute_result"
    }
   ],
   "source": [
    "quote = \"You talkin' to me?\".split()\n",
    "\n",
    "data = [\n",
    "    [\n",
    "        q, \n",
    "        q.title(), \n",
    "        len(q)\n",
    "    ]\n",
    "    for q in quote\n",
    "]\n",
    "\n",
    "data"
   ]
  },
  {
   "cell_type": "code",
   "execution_count": 25,
   "metadata": {},
   "outputs": [
    {
     "data": {
      "text/plain": [
       "[2, 4, 6, 8, 10]"
      ]
     },
     "execution_count": 25,
     "metadata": {},
     "output_type": "execute_result"
    }
   ],
   "source": [
    "numbers = range(1, 11)\n",
    "\n",
    "odds = [\n",
    "    n \n",
    "    for n in numbers \n",
    "    if n % 2 == 0\n",
    "]\n",
    "\n",
    "odds"
   ]
  },
  {
   "cell_type": "markdown",
   "metadata": {},
   "source": [
    "#### Dynamic matrix\n",
    "\n",
    " * https://docs.python.org/3/tutorial/datastructures.html#list-comprehensions\n",
    "\n",
    " * http://python-3-patterns-idioms-test.readthedocs.io/"
   ]
  },
  {
   "cell_type": "code",
   "execution_count": 26,
   "metadata": {},
   "outputs": [
    {
     "data": {
      "text/plain": [
       "[[1, 0, 0, 0, 0, 0, 0, 0],\n",
       " [0, 1, 0, 0, 0, 0, 0, 0],\n",
       " [0, 0, 1, 0, 0, 0, 0, 0],\n",
       " [0, 0, 0, 1, 0, 0, 0, 0],\n",
       " [0, 0, 0, 0, 1, 0, 0, 0],\n",
       " [0, 0, 0, 0, 0, 1, 0, 0],\n",
       " [0, 0, 0, 0, 0, 0, 1, 0],\n",
       " [0, 0, 0, 0, 0, 0, 0, 1]]"
      ]
     },
     "execution_count": 26,
     "metadata": {},
     "output_type": "execute_result"
    }
   ],
   "source": [
    "matrix = [\n",
    "    [\n",
    "        1 if item_idx == row_idx else 0 \n",
    "        for item_idx in range(0, 8)\n",
    "    ]\n",
    "    for row_idx in range(0, 8)\n",
    "]\n",
    "\n",
    "matrix"
   ]
  },
  {
   "cell_type": "markdown",
   "metadata": {
    "collapsed": true
   },
   "source": [
    "### Matrices"
   ]
  },
  {
   "cell_type": "code",
   "execution_count": 27,
   "metadata": {},
   "outputs": [
    {
     "data": {
      "text/plain": [
       "[[0, 1, 2], [3, 4, 5], [6, 7, 8]]"
      ]
     },
     "execution_count": 27,
     "metadata": {},
     "output_type": "execute_result"
    }
   ],
   "source": [
    "matrix = [[1, 2, 3], [4, 5, 6], [7, 8, 9]]\n",
    "\n",
    "[[el - 1 for el in row] for row in matrix]"
   ]
  },
  {
   "cell_type": "markdown",
   "metadata": {},
   "source": [
    "### Tuples"
   ]
  },
  {
   "cell_type": "code",
   "execution_count": 28,
   "metadata": {},
   "outputs": [
    {
     "data": {
      "text/plain": [
       "[('2016-05-18T16:03:00Z', 100.0),\n",
       " ('2016-05-18T17:20:00Z', 2.5),\n",
       " ('2016-05-18T13:00:00Z', 333.0)]"
      ]
     },
     "execution_count": 28,
     "metadata": {},
     "output_type": "execute_result"
    }
   ],
   "source": [
    "# Tuples are immutable.\n",
    "\n",
    "data = (['2016-05-18T16:03:00Z', '2016-05-18T17:20:00Z', '2016-05-18T13:00:00Z'], [100, 2.5, 333])\n",
    "\n",
    "payments = data[1];\n",
    "\n",
    "conversion = [float(x) for x in payments]\n",
    "\n",
    "result = list(zip(data[0], conversion))\n",
    "\n",
    "result"
   ]
  },
  {
   "cell_type": "code",
   "execution_count": 29,
   "metadata": {},
   "outputs": [
    {
     "data": {
      "text/plain": [
       "[('2016-05-18T16:03:00Z', 100.0),\n",
       " ('2016-05-18T17:20:00Z', 2.5),\n",
       " ('2016-05-18T13:00:00Z', 333.0)]"
      ]
     },
     "execution_count": 29,
     "metadata": {},
     "output_type": "execute_result"
    }
   ],
   "source": [
    "# Yep, tuples are immutable.\n",
    "\n",
    "data = (['2016-05-18T16:03:00Z', '2016-05-18T17:20:00Z', '2016-05-18T13:00:00Z'], [100, 2.5, 333])\n",
    "\n",
    "# Lists are mutable.\n",
    "\n",
    "mutable = list(data)\n",
    "\n",
    "payments = data[1]\n",
    "\n",
    "mutable[1] = [float(x) for x in payments]\n",
    "\n",
    "tuples = list(zip(*mutable))\n",
    "\n",
    "tuples"
   ]
  },
  {
   "cell_type": "markdown",
   "metadata": {},
   "source": [
    "## Del"
   ]
  },
  {
   "cell_type": "code",
   "execution_count": 30,
   "metadata": {},
   "outputs": [
    {
     "name": "stdout",
     "output_type": "stream",
     "text": [
      "[1, 2, 3, 4, 5, 6, 7, 8, 9, 10]\n",
      "[1, 2, 3, 4, 5, 6, 7, 8, 9]\n",
      "[2, 3, 4, 5, 6, 7, 8, 9]\n",
      "[2, 3, 6, 7, 8, 9]\n",
      "[]\n"
     ]
    }
   ],
   "source": [
    "numbers = list(range(1, 11))\n",
    "\n",
    "print(numbers)\n",
    "\n",
    "del numbers[len(numbers) - 1]\n",
    "\n",
    "print(numbers)\n",
    "\n",
    "del numbers[0]\n",
    "\n",
    "print(numbers)\n",
    "\n",
    "del numbers[2:4]\n",
    "\n",
    "print(numbers)\n",
    "\n",
    "# []\n",
    "\n",
    "del numbers[:]\n",
    "\n",
    "print(numbers)\n",
    "\n",
    "# Delete entire variable.\n",
    "\n",
    "del numbers"
   ]
  },
  {
   "cell_type": "markdown",
   "metadata": {},
   "source": [
    "## Tuples and Sequences"
   ]
  },
  {
   "cell_type": "code",
   "execution_count": 31,
   "metadata": {},
   "outputs": [
    {
     "data": {
      "text/plain": [
       "('cow', [2, 4, 6], (111, 222, 333))"
      ]
     },
     "execution_count": 31,
     "metadata": {},
     "output_type": "execute_result"
    }
   ],
   "source": [
    "# It is possible to create tuples which contain mutable objects, such as lists.\n",
    "\n",
    "my_tuple = ('cow', [333, 4, 6], (111, 222, 333))\n",
    "\n",
    "# my_tuple[0] = 'dog'  =>  'tuple' object does not support item assignment.\n",
    "\n",
    "my_tuple[1][0] = 2\n",
    "\n",
    "# my_tuple[2][0] = 2  =>  'tuple' object does not support item assignment.\n",
    "\n",
    "my_tuple"
   ]
  },
  {
   "cell_type": "code",
   "execution_count": 32,
   "metadata": {},
   "outputs": [
    {
     "data": {
      "text/plain": [
       "('one', 'two', 'three', 1, 2, 3, 4.4, 5.5, 6.6)"
      ]
     },
     "execution_count": 32,
     "metadata": {},
     "output_type": "execute_result"
    }
   ],
   "source": [
    "first_tuple = 'one', 'two', 'three'\n",
    "\n",
    "second_tuple = 1, 2, 3\n",
    "\n",
    "third_tuple = 4.4, 5.5, 6.6\n",
    "\n",
    "result = first_tuple + second_tuple + third_tuple\n",
    "\n",
    "result"
   ]
  }
 ],
 "metadata": {
  "kernelspec": {
   "display_name": "Python 3",
   "language": "python",
   "name": "python3"
  },
  "language_info": {
   "codemirror_mode": {
    "name": "ipython",
    "version": 3
   },
   "file_extension": ".py",
   "mimetype": "text/x-python",
   "name": "python",
   "nbconvert_exporter": "python",
   "pygments_lexer": "ipython3",
   "version": "3.6.1"
  }
 },
 "nbformat": 4,
 "nbformat_minor": 2
}
