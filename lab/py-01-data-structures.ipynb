{
 "cells": [
  {
   "cell_type": "markdown",
   "metadata": {},
   "source": [
    "# Data Structures\n",
    "\n",
    " * https://docs.python.org/3/tutorial/datastructures.html"
   ]
  },
  {
   "cell_type": "code",
   "execution_count": 1,
   "metadata": {
    "collapsed": true
   },
   "outputs": [],
   "source": [
    "ninjas = [\n",
    "    'Hattori Hanzō',\n",
    "    'Kumawakamaru',\n",
    "    'Yagyū Munetoshi',\n",
    "    'Hattori Hanzō',\n",
    "    'Ishikawa Goemon',\n",
    "    'Fūma Kotarō',\n",
    "    'Mochizuki Chiyome',\n",
    "    'Momochi Sandayū',\n",
    "    'Fujibayashi Nagato',\n",
    "    'Hattori Hanzō'\n",
    "]"
   ]
  },
  {
   "cell_type": "markdown",
   "metadata": {},
   "source": [
    "## Mutable Lists"
   ]
  },
  {
   "cell_type": "code",
   "execution_count": 2,
   "metadata": {},
   "outputs": [
    {
     "data": {
      "text/plain": [
       "['Hattori Hanzō',\n",
       " 'Kumawakamaru',\n",
       " 'Yagyū Munetoshi',\n",
       " 'Hattori Hanzō',\n",
       " 'Ishikawa Goemon',\n",
       " 'Fūma Kotarō',\n",
       " 'Mochizuki Chiyome',\n",
       " 'Momochi Sandayū',\n",
       " 'Fujibayashi Nagato',\n",
       " 'Hattori Hanzō']"
      ]
     },
     "execution_count": 2,
     "metadata": {},
     "output_type": "execute_result"
    }
   ],
   "source": [
    "ninjas"
   ]
  },
  {
   "cell_type": "code",
   "execution_count": 3,
   "metadata": {},
   "outputs": [
    {
     "data": {
      "text/plain": [
       "3"
      ]
     },
     "execution_count": 3,
     "metadata": {},
     "output_type": "execute_result"
    }
   ],
   "source": [
    "ninjas.count('Hattori Hanzō')"
   ]
  },
  {
   "cell_type": "code",
   "execution_count": 4,
   "metadata": {},
   "outputs": [
    {
     "data": {
      "text/plain": [
       "0"
      ]
     },
     "execution_count": 4,
     "metadata": {},
     "output_type": "execute_result"
    }
   ],
   "source": [
    "ninjas.count('Homma Saburō')"
   ]
  },
  {
   "cell_type": "code",
   "execution_count": 5,
   "metadata": {},
   "outputs": [
    {
     "data": {
      "text/plain": [
       "2"
      ]
     },
     "execution_count": 5,
     "metadata": {},
     "output_type": "execute_result"
    }
   ],
   "source": [
    "ninjas.index('Yagyū Munetoshi')"
   ]
  },
  {
   "cell_type": "code",
   "execution_count": 6,
   "metadata": {},
   "outputs": [
    {
     "data": {
      "text/plain": [
       "0"
      ]
     },
     "execution_count": 6,
     "metadata": {},
     "output_type": "execute_result"
    }
   ],
   "source": [
    "ninjas.index('Hattori Hanzō')"
   ]
  },
  {
   "cell_type": "code",
   "execution_count": 7,
   "metadata": {},
   "outputs": [
    {
     "data": {
      "text/plain": [
       "3"
      ]
     },
     "execution_count": 7,
     "metadata": {},
     "output_type": "execute_result"
    }
   ],
   "source": [
    "ninjas.index('Hattori Hanzō', 1) # Find next ninja starting at position 1"
   ]
  },
  {
   "cell_type": "code",
   "execution_count": 8,
   "metadata": {},
   "outputs": [
    {
     "data": {
      "text/plain": [
       "9"
      ]
     },
     "execution_count": 8,
     "metadata": {},
     "output_type": "execute_result"
    }
   ],
   "source": [
    "ninjas.index('Hattori Hanzō', 4) # Find next ninja starting at position 4"
   ]
  },
  {
   "cell_type": "code",
   "execution_count": 9,
   "metadata": {},
   "outputs": [
    {
     "data": {
      "text/plain": [
       "['Hattori Hanzō',\n",
       " 'Fujibayashi Nagato',\n",
       " 'Momochi Sandayū',\n",
       " 'Mochizuki Chiyome',\n",
       " 'Fūma Kotarō',\n",
       " 'Ishikawa Goemon',\n",
       " 'Hattori Hanzō',\n",
       " 'Yagyū Munetoshi',\n",
       " 'Kumawakamaru',\n",
       " 'Hattori Hanzō']"
      ]
     },
     "execution_count": 9,
     "metadata": {},
     "output_type": "execute_result"
    }
   ],
   "source": [
    "ninjas.reverse()\n",
    "\n",
    "ninjas"
   ]
  },
  {
   "cell_type": "code",
   "execution_count": 10,
   "metadata": {},
   "outputs": [
    {
     "data": {
      "text/plain": [
       "['Hattori Hanzō',\n",
       " 'Kumawakamaru',\n",
       " 'Yagyū Munetoshi',\n",
       " 'Hattori Hanzō',\n",
       " 'Ishikawa Goemon',\n",
       " 'Fūma Kotarō',\n",
       " 'Mochizuki Chiyome',\n",
       " 'Momochi Sandayū',\n",
       " 'Fujibayashi Nagato',\n",
       " 'Hattori Hanzō']"
      ]
     },
     "execution_count": 10,
     "metadata": {},
     "output_type": "execute_result"
    }
   ],
   "source": [
    "ninjas.reverse()\n",
    "\n",
    "ninjas"
   ]
  },
  {
   "cell_type": "code",
   "execution_count": 11,
   "metadata": {},
   "outputs": [
    {
     "data": {
      "text/plain": [
       "['Hattori Hanzō',\n",
       " 'Kumawakamaru',\n",
       " 'Yagyū Munetoshi',\n",
       " 'Hattori Hanzō',\n",
       " 'Ishikawa Goemon',\n",
       " 'Fūma Kotarō',\n",
       " 'Mochizuki Chiyome',\n",
       " 'Momochi Sandayū',\n",
       " 'Fujibayashi Nagato',\n",
       " 'Hattori Hanzō',\n",
       " 'Kamiizumi Ise-no-Kami Nobutsuna']"
      ]
     },
     "execution_count": 11,
     "metadata": {},
     "output_type": "execute_result"
    }
   ],
   "source": [
    "ninjas.append('Kamiizumi Ise-no-Kami Nobutsuna')\n",
    "\n",
    "ninjas"
   ]
  },
  {
   "cell_type": "code",
   "execution_count": 12,
   "metadata": {},
   "outputs": [
    {
     "data": {
      "text/plain": [
       "'Kamiizumi Ise-no-Kami Nobutsuna'"
      ]
     },
     "execution_count": 12,
     "metadata": {},
     "output_type": "execute_result"
    }
   ],
   "source": [
    "ninjas.pop()"
   ]
  },
  {
   "cell_type": "code",
   "execution_count": 13,
   "metadata": {},
   "outputs": [
    {
     "data": {
      "text/plain": [
       "['Hattori Hanzō',\n",
       " 'Kumawakamaru',\n",
       " 'Yagyū Munetoshi',\n",
       " 'Hattori Hanzō',\n",
       " 'Ishikawa Goemon',\n",
       " 'Fūma Kotarō',\n",
       " 'Mochizuki Chiyome',\n",
       " 'Momochi Sandayū',\n",
       " 'Fujibayashi Nagato',\n",
       " 'Hattori Hanzō']"
      ]
     },
     "execution_count": 13,
     "metadata": {},
     "output_type": "execute_result"
    }
   ],
   "source": [
    "ninjas"
   ]
  },
  {
   "cell_type": "code",
   "execution_count": 14,
   "metadata": {},
   "outputs": [
    {
     "data": {
      "text/plain": [
       "['Fujibayashi Nagato',\n",
       " 'Fūma Kotarō',\n",
       " 'Hattori Hanzō',\n",
       " 'Hattori Hanzō',\n",
       " 'Hattori Hanzō',\n",
       " 'Ishikawa Goemon',\n",
       " 'Kumawakamaru',\n",
       " 'Mochizuki Chiyome',\n",
       " 'Momochi Sandayū',\n",
       " 'Yagyū Munetoshi']"
      ]
     },
     "execution_count": 14,
     "metadata": {},
     "output_type": "execute_result"
    }
   ],
   "source": [
    "ninjas.sort()\n",
    "    \n",
    "ninjas"
   ]
  },
  {
   "cell_type": "markdown",
   "metadata": {},
   "source": [
    "### Lists as stacks"
   ]
  },
  {
   "cell_type": "code",
   "execution_count": 15,
   "metadata": {},
   "outputs": [
    {
     "data": {
      "text/plain": [
       "['Momochi Sandayū',\n",
       " 'Fūma Kotarō',\n",
       " 'Fujibayashi Nagato',\n",
       " 'Yagyū Munetoshi',\n",
       " 'Mochizuki Chiyome',\n",
       " 'Kumawakamaru',\n",
       " 'Ishikawa Goemon',\n",
       " 'Hattori Hanzō']"
      ]
     },
     "execution_count": 15,
     "metadata": {},
     "output_type": "execute_result"
    }
   ],
   "source": [
    "ninjas = list(set(ninjas))\n",
    "\n",
    "ninjas"
   ]
  },
  {
   "cell_type": "code",
   "execution_count": 16,
   "metadata": {},
   "outputs": [
    {
     "data": {
      "text/plain": [
       "['Momochi Sandayū',\n",
       " 'Fūma Kotarō',\n",
       " 'Fujibayashi Nagato',\n",
       " 'Yagyū Munetoshi',\n",
       " 'Mochizuki Chiyome',\n",
       " 'Kumawakamaru',\n",
       " 'Ishikawa Goemon',\n",
       " 'Hattori Hanzō',\n",
       " 'Guido van Rossum',\n",
       " 'Guido van Rossum']"
      ]
     },
     "execution_count": 16,
     "metadata": {},
     "output_type": "execute_result"
    }
   ],
   "source": [
    "ninjas.append('Guido van Rossum')\n",
    "\n",
    "ninjas\n",
    "\n",
    "ninjas.insert(len(ninjas), 'Guido van Rossum')\n",
    "\n",
    "ninjas"
   ]
  },
  {
   "cell_type": "code",
   "execution_count": 17,
   "metadata": {},
   "outputs": [
    {
     "data": {
      "text/plain": [
       "['Momochi Sandayū',\n",
       " 'Fūma Kotarō',\n",
       " 'Fujibayashi Nagato',\n",
       " 'Yagyū Munetoshi',\n",
       " 'Mochizuki Chiyome',\n",
       " 'Kumawakamaru',\n",
       " 'Ishikawa Goemon',\n",
       " 'Hattori Hanzō',\n",
       " 'Guido van Rossum']"
      ]
     },
     "execution_count": 17,
     "metadata": {},
     "output_type": "execute_result"
    }
   ],
   "source": [
    "ninjas.pop()\n",
    "\n",
    "ninjas"
   ]
  },
  {
   "cell_type": "markdown",
   "metadata": {},
   "source": [
    "### Lists as queues"
   ]
  },
  {
   "cell_type": "code",
   "execution_count": 18,
   "metadata": {},
   "outputs": [
    {
     "data": {
      "text/plain": [
       "deque(['Hattori Hanzō', 'Fūma Kotarō', 'Momochi Sandayū'])"
      ]
     },
     "execution_count": 18,
     "metadata": {},
     "output_type": "execute_result"
    }
   ],
   "source": [
    "from collections import deque\n",
    "\n",
    "queue = deque([\n",
    "    'Hattori Hanzō',\n",
    "    'Fūma Kotarō',\n",
    "    'Momochi Sandayū'\n",
    "])\n",
    "\n",
    "queue"
   ]
  },
  {
   "cell_type": "code",
   "execution_count": 19,
   "metadata": {},
   "outputs": [
    {
     "data": {
      "text/plain": [
       "deque(['Hattori Hanzō', 'Fūma Kotarō', 'Momochi Sandayū', 'Guido van Rossum'])"
      ]
     },
     "execution_count": 19,
     "metadata": {},
     "output_type": "execute_result"
    }
   ],
   "source": [
    "queue.append('Guido van Rossum')\n",
    "\n",
    "queue"
   ]
  },
  {
   "cell_type": "code",
   "execution_count": 20,
   "metadata": {},
   "outputs": [
    {
     "data": {
      "text/plain": [
       "deque(['Fūma Kotarō', 'Momochi Sandayū', 'Guido van Rossum'])"
      ]
     },
     "execution_count": 20,
     "metadata": {},
     "output_type": "execute_result"
    }
   ],
   "source": [
    "queue.popleft()\n",
    "\n",
    "queue"
   ]
  },
  {
   "cell_type": "markdown",
   "metadata": {},
   "source": [
    "#### insert(0, new) and pop(0)"
   ]
  },
  {
   "cell_type": "code",
   "execution_count": 21,
   "metadata": {},
   "outputs": [
    {
     "data": {
      "text/plain": [
       "['Guido van Rossum',\n",
       " 'Momochi Sandayū',\n",
       " 'Fūma Kotarō',\n",
       " 'Fujibayashi Nagato',\n",
       " 'Yagyū Munetoshi',\n",
       " 'Mochizuki Chiyome',\n",
       " 'Kumawakamaru',\n",
       " 'Ishikawa Goemon',\n",
       " 'Hattori Hanzō',\n",
       " 'Guido van Rossum']"
      ]
     },
     "execution_count": 21,
     "metadata": {},
     "output_type": "execute_result"
    }
   ],
   "source": [
    "ninjas.insert(0, 'Guido van Rossum')\n",
    "\n",
    "ninjas"
   ]
  },
  {
   "cell_type": "code",
   "execution_count": 22,
   "metadata": {},
   "outputs": [
    {
     "data": {
      "text/plain": [
       "['Momochi Sandayū',\n",
       " 'Fūma Kotarō',\n",
       " 'Fujibayashi Nagato',\n",
       " 'Yagyū Munetoshi',\n",
       " 'Mochizuki Chiyome',\n",
       " 'Kumawakamaru',\n",
       " 'Ishikawa Goemon',\n",
       " 'Hattori Hanzō',\n",
       " 'Guido van Rossum']"
      ]
     },
     "execution_count": 22,
     "metadata": {},
     "output_type": "execute_result"
    }
   ],
   "source": [
    "ninjas.pop(0)\n",
    "\n",
    "ninjas"
   ]
  },
  {
   "cell_type": "markdown",
   "metadata": {},
   "source": [
    "### List Comprehensions"
   ]
  },
  {
   "cell_type": "code",
   "execution_count": 23,
   "metadata": {},
   "outputs": [
    {
     "data": {
      "text/plain": [
       "[['You', 'You', 3],\n",
       " [\"talkin'\", \"Talkin'\", 7],\n",
       " ['to', 'To', 2],\n",
       " ['me?', 'Me?', 3]]"
      ]
     },
     "execution_count": 23,
     "metadata": {},
     "output_type": "execute_result"
    }
   ],
   "source": [
    "quote = \"You talkin' to me?\".split()\n",
    "\n",
    "data = list(map(lambda q: [q, q.title(), len(q)], quote))\n",
    "\n",
    "data"
   ]
  },
  {
   "cell_type": "markdown",
   "metadata": {},
   "source": [
    " * It is often preferable to use a list comprehension, because this is more efficient and easier to read, most of the time.\n",
    "\n",
    " * We can think of list comprehensions as syntactic sugar for a filter followed by a map."
   ]
  },
  {
   "cell_type": "code",
   "execution_count": 24,
   "metadata": {},
   "outputs": [
    {
     "data": {
      "text/plain": [
       "[['You', 'You', 3],\n",
       " [\"talkin'\", \"Talkin'\", 7],\n",
       " ['to', 'To', 2],\n",
       " ['me?', 'Me?', 3]]"
      ]
     },
     "execution_count": 24,
     "metadata": {},
     "output_type": "execute_result"
    }
   ],
   "source": [
    "quote = \"You talkin' to me?\".split()\n",
    "\n",
    "data = [\n",
    "    [\n",
    "        q, \n",
    "        q.title(), \n",
    "        len(q)\n",
    "    ]\n",
    "    for q in quote\n",
    "]\n",
    "\n",
    "data"
   ]
  },
  {
   "cell_type": "code",
   "execution_count": 25,
   "metadata": {},
   "outputs": [
    {
     "data": {
      "text/plain": [
       "[2, 4, 6, 8, 10]"
      ]
     },
     "execution_count": 25,
     "metadata": {},
     "output_type": "execute_result"
    }
   ],
   "source": [
    "numbers = range(1, 11)\n",
    "\n",
    "odds = [\n",
    "    n \n",
    "    for n in numbers \n",
    "    if n % 2 == 0\n",
    "]\n",
    "\n",
    "odds"
   ]
  },
  {
   "cell_type": "markdown",
   "metadata": {},
   "source": [
    "#### Dynamic matrix\n",
    "\n",
    " * https://docs.python.org/3/tutorial/datastructures.html#list-comprehensions\n",
    "\n",
    " * http://python-3-patterns-idioms-test.readthedocs.io/"
   ]
  },
  {
   "cell_type": "code",
   "execution_count": 26,
   "metadata": {},
   "outputs": [
    {
     "data": {
      "text/plain": [
       "[[1, 0, 0, 0, 0, 0, 0, 0],\n",
       " [0, 1, 0, 0, 0, 0, 0, 0],\n",
       " [0, 0, 1, 0, 0, 0, 0, 0],\n",
       " [0, 0, 0, 1, 0, 0, 0, 0],\n",
       " [0, 0, 0, 0, 1, 0, 0, 0],\n",
       " [0, 0, 0, 0, 0, 1, 0, 0],\n",
       " [0, 0, 0, 0, 0, 0, 1, 0],\n",
       " [0, 0, 0, 0, 0, 0, 0, 1]]"
      ]
     },
     "execution_count": 26,
     "metadata": {},
     "output_type": "execute_result"
    }
   ],
   "source": [
    "matrix = [\n",
    "    [\n",
    "        1 if item_idx == row_idx else 0 \n",
    "        for item_idx in range(0, 8)\n",
    "    ]\n",
    "    for row_idx in range(0, 8)\n",
    "]\n",
    "\n",
    "matrix"
   ]
  },
  {
   "cell_type": "markdown",
   "metadata": {
    "collapsed": true
   },
   "source": [
    "### Matrices"
   ]
  },
  {
   "cell_type": "code",
   "execution_count": 27,
   "metadata": {},
   "outputs": [
    {
     "data": {
      "text/plain": [
       "[[0, 1, 2], [3, 4, 5], [6, 7, 8]]"
      ]
     },
     "execution_count": 27,
     "metadata": {},
     "output_type": "execute_result"
    }
   ],
   "source": [
    "matrix = [[1, 2, 3], [4, 5, 6], [7, 8, 9]]\n",
    "\n",
    "[[el - 1 for el in row] for row in matrix]"
   ]
  },
  {
   "cell_type": "markdown",
   "metadata": {},
   "source": [
    "### Tuples"
   ]
  },
  {
   "cell_type": "code",
   "execution_count": 28,
   "metadata": {},
   "outputs": [
    {
     "data": {
      "text/plain": [
       "[('2016-05-18T16:03:00Z', 100.0),\n",
       " ('2016-05-18T17:20:00Z', 2.5),\n",
       " ('2016-05-18T13:00:00Z', 333.0)]"
      ]
     },
     "execution_count": 28,
     "metadata": {},
     "output_type": "execute_result"
    }
   ],
   "source": [
    "# Tuples are immutable.\n",
    "\n",
    "data = (['2016-05-18T16:03:00Z', '2016-05-18T17:20:00Z', '2016-05-18T13:00:00Z'], [100, 2.5, 333])\n",
    "\n",
    "payments = data[1];\n",
    "\n",
    "conversion = [float(x) for x in payments]\n",
    "\n",
    "result = list(zip(data[0], conversion))\n",
    "\n",
    "result"
   ]
  },
  {
   "cell_type": "code",
   "execution_count": 29,
   "metadata": {},
   "outputs": [
    {
     "data": {
      "text/plain": [
       "[('2016-05-18T16:03:00Z', 100.0),\n",
       " ('2016-05-18T17:20:00Z', 2.5),\n",
       " ('2016-05-18T13:00:00Z', 333.0)]"
      ]
     },
     "execution_count": 29,
     "metadata": {},
     "output_type": "execute_result"
    }
   ],
   "source": [
    "# Yep, tuples are immutable.\n",
    "\n",
    "data = (['2016-05-18T16:03:00Z', '2016-05-18T17:20:00Z', '2016-05-18T13:00:00Z'], [100, 2.5, 333])\n",
    "\n",
    "# Lists are mutable.\n",
    "\n",
    "mutable = list(data)\n",
    "\n",
    "payments = data[1]\n",
    "\n",
    "mutable[1] = [float(x) for x in payments]\n",
    "\n",
    "tuples = list(zip(*mutable))\n",
    "\n",
    "tuples"
   ]
  },
  {
   "cell_type": "markdown",
   "metadata": {},
   "source": [
    "## Del"
   ]
  },
  {
   "cell_type": "code",
   "execution_count": 30,
   "metadata": {},
   "outputs": [
    {
     "name": "stdout",
     "output_type": "stream",
     "text": [
      "[1, 2, 3, 4, 5, 6, 7, 8, 9, 10]\n",
      "[1, 2, 3, 4, 5, 6, 7, 8, 9]\n",
      "[2, 3, 4, 5, 6, 7, 8, 9]\n",
      "[2, 3, 6, 7, 8, 9]\n",
      "[]\n"
     ]
    }
   ],
   "source": [
    "numbers = list(range(1, 11))\n",
    "\n",
    "print(numbers)\n",
    "\n",
    "del numbers[len(numbers) - 1]\n",
    "\n",
    "print(numbers)\n",
    "\n",
    "del numbers[0]\n",
    "\n",
    "print(numbers)\n",
    "\n",
    "del numbers[2:4]\n",
    "\n",
    "print(numbers)\n",
    "\n",
    "# []\n",
    "\n",
    "del numbers[:]\n",
    "\n",
    "print(numbers)\n",
    "\n",
    "# Delete entire variable.\n",
    "\n",
    "del numbers"
   ]
  },
  {
   "cell_type": "markdown",
   "metadata": {},
   "source": [
    "## Immutable Tuples and Sequences"
   ]
  },
  {
   "cell_type": "code",
   "execution_count": 31,
   "metadata": {},
   "outputs": [
    {
     "data": {
      "text/plain": [
       "9"
      ]
     },
     "execution_count": 31,
     "metadata": {},
     "output_type": "execute_result"
    }
   ],
   "source": [
    "separated_by_commas = 333, 'three three three', [3, 6, 9], (3 ,6 ,9)\n",
    "\n",
    "separated_by_commas\n",
    "\n",
    "separated_by_commas[3]\n",
    "\n",
    "separated_by_commas[3][2]"
   ]
  },
  {
   "cell_type": "code",
   "execution_count": 32,
   "metadata": {},
   "outputs": [
    {
     "data": {
      "text/plain": [
       "('cow', [2, 4, 6], (111, 222, 333))"
      ]
     },
     "execution_count": 32,
     "metadata": {},
     "output_type": "execute_result"
    }
   ],
   "source": [
    "# It is possible to create tuples which contain mutable objects, such as lists.\n",
    "\n",
    "my_tuple = ('cow', [333, 4, 6], (111, 222, 333))\n",
    "\n",
    "# my_tuple[0] = 'dog'  =>  'tuple' object does not support item assignment.\n",
    "\n",
    "my_tuple[1][0] = 2\n",
    "\n",
    "# my_tuple[2][0] = 2  =>  'tuple' object does not support item assignment.\n",
    "\n",
    "my_tuple"
   ]
  },
  {
   "cell_type": "code",
   "execution_count": 33,
   "metadata": {},
   "outputs": [
    {
     "data": {
      "text/plain": [
       "('one', 'two', 'three', 1, 2, 3, 4.4, 5.5, 6.6)"
      ]
     },
     "execution_count": 33,
     "metadata": {},
     "output_type": "execute_result"
    }
   ],
   "source": [
    "first_tuple = 'one', 'two', 'three'\n",
    "\n",
    "second_tuple = 1, 2, 3\n",
    "\n",
    "third_tuple = 4.4, 5.5, 6.6\n",
    "\n",
    "result = first_tuple + second_tuple + third_tuple\n",
    "\n",
    "result"
   ]
  },
  {
   "cell_type": "code",
   "execution_count": 34,
   "metadata": {},
   "outputs": [
    {
     "name": "stdout",
     "output_type": "stream",
     "text": [
      "()\n",
      "0\n"
     ]
    }
   ],
   "source": [
    "# Empty tuples are constructed by an empty pair of parentheses.\n",
    "\n",
    "empty = ()\n",
    "\n",
    "print(empty)\n",
    "\n",
    "print(len(empty))"
   ]
  },
  {
   "cell_type": "code",
   "execution_count": 35,
   "metadata": {},
   "outputs": [
    {
     "name": "stdout",
     "output_type": "stream",
     "text": [
      "(333,)\n",
      "1\n"
     ]
    }
   ],
   "source": [
    "# A tuple with one item is constructed by following a value with a comma.\n",
    "\n",
    "trailing_comma = 333,\n",
    "\n",
    "print(trailing_comma)\n",
    "\n",
    "print(len(trailing_comma))"
   ]
  },
  {
   "cell_type": "markdown",
   "metadata": {},
   "source": [
    "### Tuple Packing"
   ]
  },
  {
   "cell_type": "code",
   "execution_count": 36,
   "metadata": {},
   "outputs": [
    {
     "name": "stdout",
     "output_type": "stream",
     "text": [
      "('Tesla', 'Model 3', 2017)\n",
      "Tesla <class 'str'>\n",
      "Model 3 <class 'str'>\n",
      "2017 <class 'int'>\n"
     ]
    }
   ],
   "source": [
    "vehicle = ('Tesla', 'Model 3', 2017)\n",
    "\n",
    "print(vehicle)\n",
    "\n",
    "(make, model, year) = vehicle\n",
    "\n",
    "print(make, type(make))\n",
    "\n",
    "print(model, type(model))\n",
    "\n",
    "print(year, type(year))"
   ]
  },
  {
   "cell_type": "code",
   "execution_count": 37,
   "metadata": {},
   "outputs": [
    {
     "name": "stdout",
     "output_type": "stream",
     "text": [
      "1 <class 'int'>\n",
      "10 <class 'int'>\n"
     ]
    }
   ],
   "source": [
    "# Swap the values of two variables.\n",
    "\n",
    "min = 10\n",
    "\n",
    "max = 1\n",
    "\n",
    "(min, max) = (max, min)\n",
    "\n",
    "print(min, type(min))\n",
    "\n",
    "print(max, type(max))"
   ]
  },
  {
   "cell_type": "code",
   "execution_count": 38,
   "metadata": {},
   "outputs": [
    {
     "name": "stdout",
     "output_type": "stream",
     "text": [
      "Tesla Model 3 2017\n",
      "2017 Model 3 Tesla\n"
     ]
    }
   ],
   "source": [
    "# Tuples as return values.\n",
    "\n",
    "def vehicle():\n",
    "    get_make = 'Tesla'\n",
    "    get_model = 'Model 3'\n",
    "    get_year = 2017\n",
    "    return (get_make, get_model, get_year)\n",
    "\n",
    "(my_make, my_model, my_year) = vehicle()\n",
    "\n",
    "print('{} {} {}'.format(my_make, my_model, my_year))\n",
    "\n",
    "print('{2} {1} {0}'.format(my_make, my_model, my_year))"
   ]
  },
  {
   "cell_type": "markdown",
   "metadata": {},
   "source": [
    "## Sets\n",
    "\n",
    "A set is an unordered collection with no duplicate elements."
   ]
  },
  {
   "cell_type": "code",
   "execution_count": 39,
   "metadata": {},
   "outputs": [
    {
     "name": "stdout",
     "output_type": "stream",
     "text": [
      "set()\n"
     ]
    }
   ],
   "source": [
    "# To create an empty set you have to use set(), not {}.\n",
    "\n",
    "empty_set = set()\n",
    "\n",
    "print(empty_set)"
   ]
  },
  {
   "cell_type": "code",
   "execution_count": 40,
   "metadata": {},
   "outputs": [
    {
     "name": "stdout",
     "output_type": "stream",
     "text": [
      "{'b', 'a', ',', '3', '2', 'c', '1'}\n"
     ]
    }
   ],
   "source": [
    "chars = set('123,abc,abc,abc,123')\n",
    "\n",
    "print(chars)"
   ]
  },
  {
   "cell_type": "code",
   "execution_count": 41,
   "metadata": {},
   "outputs": [
    {
     "name": "stdout",
     "output_type": "stream",
     "text": [
      "{1, 2, 3, 4, 5}\n",
      "{4, 5, 6, 7, 8, 9, 10}\n"
     ]
    }
   ],
   "source": [
    "unique = set([1,2,3,4,5,4,3,2,1])\n",
    "\n",
    "print(unique)\n",
    "\n",
    "unordered = {7, 9, 6, 8, 4, 5, 10}\n",
    "\n",
    "print(unordered)"
   ]
  },
  {
   "cell_type": "code",
   "execution_count": 42,
   "metadata": {},
   "outputs": [
    {
     "data": {
      "text/plain": [
       "False"
      ]
     },
     "execution_count": 42,
     "metadata": {},
     "output_type": "execute_result"
    }
   ],
   "source": [
    "# Fast membership testing.\n",
    "\n",
    "'1' in unique"
   ]
  },
  {
   "cell_type": "code",
   "execution_count": 43,
   "metadata": {},
   "outputs": [
    {
     "data": {
      "text/plain": [
       "True"
      ]
     },
     "execution_count": 43,
     "metadata": {},
     "output_type": "execute_result"
    }
   ],
   "source": [
    "1 in unique"
   ]
  },
  {
   "cell_type": "code",
   "execution_count": 44,
   "metadata": {},
   "outputs": [
    {
     "data": {
      "text/plain": [
       "True"
      ]
     },
     "execution_count": 44,
     "metadata": {},
     "output_type": "execute_result"
    }
   ],
   "source": [
    "# Fast membership testing.\n",
    "\n",
    "10 in unordered"
   ]
  },
  {
   "cell_type": "code",
   "execution_count": 45,
   "metadata": {},
   "outputs": [
    {
     "data": {
      "text/plain": [
       "{1, 2, 3}"
      ]
     },
     "execution_count": 45,
     "metadata": {},
     "output_type": "execute_result"
    }
   ],
   "source": [
    "# Numbers in unique but not in unordered.\n",
    "\n",
    "unique - unordered"
   ]
  },
  {
   "cell_type": "code",
   "execution_count": 46,
   "metadata": {},
   "outputs": [
    {
     "data": {
      "text/plain": [
       "{6, 7, 8, 9, 10}"
      ]
     },
     "execution_count": 46,
     "metadata": {},
     "output_type": "execute_result"
    }
   ],
   "source": [
    "# Numbers in unordered but not in unique.\n",
    "\n",
    "unordered - unique"
   ]
  },
  {
   "cell_type": "code",
   "execution_count": 47,
   "metadata": {},
   "outputs": [
    {
     "data": {
      "text/plain": [
       "{4, 5}"
      ]
     },
     "execution_count": 47,
     "metadata": {},
     "output_type": "execute_result"
    }
   ],
   "source": [
    "{x for x in unique if x not in [1, 2, 3]}"
   ]
  },
  {
   "cell_type": "markdown",
   "metadata": {},
   "source": [
    "### List, Tuple and Set"
   ]
  },
  {
   "cell_type": "code",
   "execution_count": 48,
   "metadata": {},
   "outputs": [
    {
     "name": "stdout",
     "output_type": "stream",
     "text": [
      "[1, 2, 3, 4, 5, 6, 7, 8, 9, 10]\n",
      "(1, 2, 3, 4, 5, 6, 7, 8, 9, 10)\n",
      "{1, 2, 3, 4, 5, 6, 7, 8, 9, 10}\n"
     ]
    }
   ],
   "source": [
    "numbers = range(1, 11)\n",
    "\n",
    "print(list(numbers))\n",
    "\n",
    "print(tuple(numbers))\n",
    "\n",
    "print(set(numbers))"
   ]
  },
  {
   "cell_type": "markdown",
   "metadata": {},
   "source": [
    "### Set Comprehensions"
   ]
  },
  {
   "cell_type": "code",
   "execution_count": 49,
   "metadata": {},
   "outputs": [
    {
     "name": "stdout",
     "output_type": "stream",
     "text": [
      "{1, 2, 3, 4, 5, 6, 7, 8, 9, 10}\n"
     ]
    }
   ],
   "source": [
    "numbers = set(range(1, 11))\n",
    "\n",
    "print(numbers)"
   ]
  }
 ],
 "metadata": {
  "kernelspec": {
   "display_name": "Python 3",
   "language": "python",
   "name": "python3"
  },
  "language_info": {
   "codemirror_mode": {
    "name": "ipython",
    "version": 3
   },
   "file_extension": ".py",
   "mimetype": "text/x-python",
   "name": "python",
   "nbconvert_exporter": "python",
   "pygments_lexer": "ipython3",
   "version": "3.6.1"
  }
 },
 "nbformat": 4,
 "nbformat_minor": 2
}
