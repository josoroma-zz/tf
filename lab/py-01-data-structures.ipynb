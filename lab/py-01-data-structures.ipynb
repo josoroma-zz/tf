{
 "cells": [
  {
   "cell_type": "markdown",
   "metadata": {},
   "source": [
    "# Data Structures\n",
    "\n",
    " * https://docs.python.org/3/tutorial/datastructures.html"
   ]
  },
  {
   "cell_type": "code",
   "execution_count": 1,
   "metadata": {
    "collapsed": true
   },
   "outputs": [],
   "source": [
    "ninjas = [\n",
    "    'Hattori Hanzō',\n",
    "    'Kumawakamaru',\n",
    "    'Yagyū Munetoshi',\n",
    "    'Hattori Hanzō',\n",
    "    'Ishikawa Goemon',\n",
    "    'Fūma Kotarō',\n",
    "    'Mochizuki Chiyome',\n",
    "    'Momochi Sandayū',\n",
    "    'Fujibayashi Nagato',\n",
    "    'Hattori Hanzō'\n",
    "]"
   ]
  },
  {
   "cell_type": "markdown",
   "metadata": {},
   "source": [
    "## Mutable Lists"
   ]
  },
  {
   "cell_type": "code",
   "execution_count": 2,
   "metadata": {},
   "outputs": [
    {
     "data": {
      "text/plain": [
       "['Hattori Hanzō',\n",
       " 'Kumawakamaru',\n",
       " 'Yagyū Munetoshi',\n",
       " 'Hattori Hanzō',\n",
       " 'Ishikawa Goemon',\n",
       " 'Fūma Kotarō',\n",
       " 'Mochizuki Chiyome',\n",
       " 'Momochi Sandayū',\n",
       " 'Fujibayashi Nagato',\n",
       " 'Hattori Hanzō']"
      ]
     },
     "execution_count": 2,
     "metadata": {},
     "output_type": "execute_result"
    }
   ],
   "source": [
    "ninjas"
   ]
  },
  {
   "cell_type": "code",
   "execution_count": 3,
   "metadata": {},
   "outputs": [
    {
     "data": {
      "text/plain": [
       "3"
      ]
     },
     "execution_count": 3,
     "metadata": {},
     "output_type": "execute_result"
    }
   ],
   "source": [
    "ninjas.count('Hattori Hanzō')"
   ]
  },
  {
   "cell_type": "code",
   "execution_count": 4,
   "metadata": {},
   "outputs": [
    {
     "data": {
      "text/plain": [
       "0"
      ]
     },
     "execution_count": 4,
     "metadata": {},
     "output_type": "execute_result"
    }
   ],
   "source": [
    "ninjas.count('Homma Saburō')"
   ]
  },
  {
   "cell_type": "code",
   "execution_count": 5,
   "metadata": {},
   "outputs": [
    {
     "data": {
      "text/plain": [
       "2"
      ]
     },
     "execution_count": 5,
     "metadata": {},
     "output_type": "execute_result"
    }
   ],
   "source": [
    "ninjas.index('Yagyū Munetoshi')"
   ]
  },
  {
   "cell_type": "code",
   "execution_count": 6,
   "metadata": {},
   "outputs": [
    {
     "data": {
      "text/plain": [
       "0"
      ]
     },
     "execution_count": 6,
     "metadata": {},
     "output_type": "execute_result"
    }
   ],
   "source": [
    "ninjas.index('Hattori Hanzō')"
   ]
  },
  {
   "cell_type": "code",
   "execution_count": 7,
   "metadata": {},
   "outputs": [
    {
     "data": {
      "text/plain": [
       "3"
      ]
     },
     "execution_count": 7,
     "metadata": {},
     "output_type": "execute_result"
    }
   ],
   "source": [
    "ninjas.index('Hattori Hanzō', 1) # Find next ninja starting at position 1"
   ]
  },
  {
   "cell_type": "code",
   "execution_count": 8,
   "metadata": {},
   "outputs": [
    {
     "data": {
      "text/plain": [
       "9"
      ]
     },
     "execution_count": 8,
     "metadata": {},
     "output_type": "execute_result"
    }
   ],
   "source": [
    "ninjas.index('Hattori Hanzō', 4) # Find next ninja starting at position 4"
   ]
  },
  {
   "cell_type": "code",
   "execution_count": 9,
   "metadata": {},
   "outputs": [
    {
     "data": {
      "text/plain": [
       "['Hattori Hanzō',\n",
       " 'Fujibayashi Nagato',\n",
       " 'Momochi Sandayū',\n",
       " 'Mochizuki Chiyome',\n",
       " 'Fūma Kotarō',\n",
       " 'Ishikawa Goemon',\n",
       " 'Hattori Hanzō',\n",
       " 'Yagyū Munetoshi',\n",
       " 'Kumawakamaru',\n",
       " 'Hattori Hanzō']"
      ]
     },
     "execution_count": 9,
     "metadata": {},
     "output_type": "execute_result"
    }
   ],
   "source": [
    "ninjas.reverse()\n",
    "\n",
    "ninjas"
   ]
  },
  {
   "cell_type": "code",
   "execution_count": 10,
   "metadata": {},
   "outputs": [
    {
     "data": {
      "text/plain": [
       "['Hattori Hanzō',\n",
       " 'Kumawakamaru',\n",
       " 'Yagyū Munetoshi',\n",
       " 'Hattori Hanzō',\n",
       " 'Ishikawa Goemon',\n",
       " 'Fūma Kotarō',\n",
       " 'Mochizuki Chiyome',\n",
       " 'Momochi Sandayū',\n",
       " 'Fujibayashi Nagato',\n",
       " 'Hattori Hanzō']"
      ]
     },
     "execution_count": 10,
     "metadata": {},
     "output_type": "execute_result"
    }
   ],
   "source": [
    "ninjas.reverse()\n",
    "\n",
    "ninjas"
   ]
  },
  {
   "cell_type": "code",
   "execution_count": 11,
   "metadata": {},
   "outputs": [
    {
     "data": {
      "text/plain": [
       "['Hattori Hanzō',\n",
       " 'Kumawakamaru',\n",
       " 'Yagyū Munetoshi',\n",
       " 'Hattori Hanzō',\n",
       " 'Ishikawa Goemon',\n",
       " 'Fūma Kotarō',\n",
       " 'Mochizuki Chiyome',\n",
       " 'Momochi Sandayū',\n",
       " 'Fujibayashi Nagato',\n",
       " 'Hattori Hanzō',\n",
       " 'Kamiizumi Ise-no-Kami Nobutsuna']"
      ]
     },
     "execution_count": 11,
     "metadata": {},
     "output_type": "execute_result"
    }
   ],
   "source": [
    "ninjas.append('Kamiizumi Ise-no-Kami Nobutsuna')\n",
    "\n",
    "ninjas"
   ]
  },
  {
   "cell_type": "code",
   "execution_count": 12,
   "metadata": {},
   "outputs": [
    {
     "data": {
      "text/plain": [
       "'Kamiizumi Ise-no-Kami Nobutsuna'"
      ]
     },
     "execution_count": 12,
     "metadata": {},
     "output_type": "execute_result"
    }
   ],
   "source": [
    "ninjas.pop()"
   ]
  },
  {
   "cell_type": "code",
   "execution_count": 13,
   "metadata": {},
   "outputs": [
    {
     "data": {
      "text/plain": [
       "['Hattori Hanzō',\n",
       " 'Kumawakamaru',\n",
       " 'Yagyū Munetoshi',\n",
       " 'Hattori Hanzō',\n",
       " 'Ishikawa Goemon',\n",
       " 'Fūma Kotarō',\n",
       " 'Mochizuki Chiyome',\n",
       " 'Momochi Sandayū',\n",
       " 'Fujibayashi Nagato',\n",
       " 'Hattori Hanzō']"
      ]
     },
     "execution_count": 13,
     "metadata": {},
     "output_type": "execute_result"
    }
   ],
   "source": [
    "ninjas"
   ]
  },
  {
   "cell_type": "code",
   "execution_count": 14,
   "metadata": {},
   "outputs": [
    {
     "data": {
      "text/plain": [
       "['Fujibayashi Nagato',\n",
       " 'Fūma Kotarō',\n",
       " 'Hattori Hanzō',\n",
       " 'Hattori Hanzō',\n",
       " 'Hattori Hanzō',\n",
       " 'Ishikawa Goemon',\n",
       " 'Kumawakamaru',\n",
       " 'Mochizuki Chiyome',\n",
       " 'Momochi Sandayū',\n",
       " 'Yagyū Munetoshi']"
      ]
     },
     "execution_count": 14,
     "metadata": {},
     "output_type": "execute_result"
    }
   ],
   "source": [
    "ninjas.sort()\n",
    "    \n",
    "ninjas"
   ]
  },
  {
   "cell_type": "markdown",
   "metadata": {},
   "source": [
    "### Lists as stacks"
   ]
  },
  {
   "cell_type": "code",
   "execution_count": 15,
   "metadata": {},
   "outputs": [
    {
     "data": {
      "text/plain": [
       "['Kumawakamaru',\n",
       " 'Ishikawa Goemon',\n",
       " 'Mochizuki Chiyome',\n",
       " 'Fūma Kotarō',\n",
       " 'Yagyū Munetoshi',\n",
       " 'Fujibayashi Nagato',\n",
       " 'Momochi Sandayū',\n",
       " 'Hattori Hanzō']"
      ]
     },
     "execution_count": 15,
     "metadata": {},
     "output_type": "execute_result"
    }
   ],
   "source": [
    "ninjas = list(set(ninjas))\n",
    "\n",
    "ninjas"
   ]
  },
  {
   "cell_type": "code",
   "execution_count": 16,
   "metadata": {},
   "outputs": [
    {
     "data": {
      "text/plain": [
       "['Kumawakamaru',\n",
       " 'Ishikawa Goemon',\n",
       " 'Mochizuki Chiyome',\n",
       " 'Fūma Kotarō',\n",
       " 'Yagyū Munetoshi',\n",
       " 'Fujibayashi Nagato',\n",
       " 'Momochi Sandayū',\n",
       " 'Hattori Hanzō',\n",
       " 'Guido van Rossum',\n",
       " 'Guido van Rossum']"
      ]
     },
     "execution_count": 16,
     "metadata": {},
     "output_type": "execute_result"
    }
   ],
   "source": [
    "ninjas.append('Guido van Rossum')\n",
    "\n",
    "ninjas\n",
    "\n",
    "ninjas.insert(len(ninjas), 'Guido van Rossum')\n",
    "\n",
    "ninjas"
   ]
  },
  {
   "cell_type": "code",
   "execution_count": 17,
   "metadata": {},
   "outputs": [
    {
     "data": {
      "text/plain": [
       "['Kumawakamaru',\n",
       " 'Ishikawa Goemon',\n",
       " 'Mochizuki Chiyome',\n",
       " 'Fūma Kotarō',\n",
       " 'Yagyū Munetoshi',\n",
       " 'Fujibayashi Nagato',\n",
       " 'Momochi Sandayū',\n",
       " 'Hattori Hanzō',\n",
       " 'Guido van Rossum']"
      ]
     },
     "execution_count": 17,
     "metadata": {},
     "output_type": "execute_result"
    }
   ],
   "source": [
    "ninjas.pop()\n",
    "\n",
    "ninjas"
   ]
  },
  {
   "cell_type": "markdown",
   "metadata": {},
   "source": [
    "### Lists as queues"
   ]
  },
  {
   "cell_type": "code",
   "execution_count": 18,
   "metadata": {},
   "outputs": [
    {
     "data": {
      "text/plain": [
       "deque(['Hattori Hanzō', 'Fūma Kotarō', 'Momochi Sandayū'])"
      ]
     },
     "execution_count": 18,
     "metadata": {},
     "output_type": "execute_result"
    }
   ],
   "source": [
    "from collections import deque\n",
    "\n",
    "queue = deque([\n",
    "    'Hattori Hanzō',\n",
    "    'Fūma Kotarō',\n",
    "    'Momochi Sandayū'\n",
    "])\n",
    "\n",
    "queue"
   ]
  },
  {
   "cell_type": "code",
   "execution_count": 19,
   "metadata": {},
   "outputs": [
    {
     "data": {
      "text/plain": [
       "deque(['Hattori Hanzō', 'Fūma Kotarō', 'Momochi Sandayū', 'Guido van Rossum'])"
      ]
     },
     "execution_count": 19,
     "metadata": {},
     "output_type": "execute_result"
    }
   ],
   "source": [
    "queue.append('Guido van Rossum')\n",
    "\n",
    "queue"
   ]
  },
  {
   "cell_type": "code",
   "execution_count": 20,
   "metadata": {},
   "outputs": [
    {
     "data": {
      "text/plain": [
       "deque(['Fūma Kotarō', 'Momochi Sandayū', 'Guido van Rossum'])"
      ]
     },
     "execution_count": 20,
     "metadata": {},
     "output_type": "execute_result"
    }
   ],
   "source": [
    "queue.popleft()\n",
    "\n",
    "queue"
   ]
  },
  {
   "cell_type": "markdown",
   "metadata": {},
   "source": [
    "#### insert(0, new) and pop(0)"
   ]
  },
  {
   "cell_type": "code",
   "execution_count": 21,
   "metadata": {},
   "outputs": [
    {
     "data": {
      "text/plain": [
       "['Guido van Rossum',\n",
       " 'Kumawakamaru',\n",
       " 'Ishikawa Goemon',\n",
       " 'Mochizuki Chiyome',\n",
       " 'Fūma Kotarō',\n",
       " 'Yagyū Munetoshi',\n",
       " 'Fujibayashi Nagato',\n",
       " 'Momochi Sandayū',\n",
       " 'Hattori Hanzō',\n",
       " 'Guido van Rossum']"
      ]
     },
     "execution_count": 21,
     "metadata": {},
     "output_type": "execute_result"
    }
   ],
   "source": [
    "ninjas.insert(0, 'Guido van Rossum')\n",
    "\n",
    "ninjas"
   ]
  },
  {
   "cell_type": "code",
   "execution_count": 22,
   "metadata": {},
   "outputs": [
    {
     "data": {
      "text/plain": [
       "['Kumawakamaru',\n",
       " 'Ishikawa Goemon',\n",
       " 'Mochizuki Chiyome',\n",
       " 'Fūma Kotarō',\n",
       " 'Yagyū Munetoshi',\n",
       " 'Fujibayashi Nagato',\n",
       " 'Momochi Sandayū',\n",
       " 'Hattori Hanzō',\n",
       " 'Guido van Rossum']"
      ]
     },
     "execution_count": 22,
     "metadata": {},
     "output_type": "execute_result"
    }
   ],
   "source": [
    "ninjas.pop(0)\n",
    "\n",
    "ninjas"
   ]
  },
  {
   "cell_type": "markdown",
   "metadata": {},
   "source": [
    "### List Comprehensions"
   ]
  },
  {
   "cell_type": "code",
   "execution_count": 23,
   "metadata": {},
   "outputs": [
    {
     "data": {
      "text/plain": [
       "[['You', 'You', 3],\n",
       " [\"talkin'\", \"Talkin'\", 7],\n",
       " ['to', 'To', 2],\n",
       " ['me?', 'Me?', 3]]"
      ]
     },
     "execution_count": 23,
     "metadata": {},
     "output_type": "execute_result"
    }
   ],
   "source": [
    "quote = \"You talkin' to me?\".split()\n",
    "\n",
    "data = list(map(lambda q: [q, q.title(), len(q)], quote))\n",
    "\n",
    "data"
   ]
  },
  {
   "cell_type": "markdown",
   "metadata": {},
   "source": [
    " * It is often preferable to use a list comprehension, because this is more efficient and easier to read, most of the time.\n",
    "\n",
    " * We can think of list comprehensions as syntactic sugar for a filter followed by a map."
   ]
  },
  {
   "cell_type": "code",
   "execution_count": 24,
   "metadata": {},
   "outputs": [
    {
     "data": {
      "text/plain": [
       "[['You', 'You', 3],\n",
       " [\"talkin'\", \"Talkin'\", 7],\n",
       " ['to', 'To', 2],\n",
       " ['me?', 'Me?', 3]]"
      ]
     },
     "execution_count": 24,
     "metadata": {},
     "output_type": "execute_result"
    }
   ],
   "source": [
    "quote = \"You talkin' to me?\".split()\n",
    "\n",
    "data = [\n",
    "    [\n",
    "        q, \n",
    "        q.title(), \n",
    "        len(q)\n",
    "    ]\n",
    "    for q in quote\n",
    "]\n",
    "\n",
    "data"
   ]
  },
  {
   "cell_type": "code",
   "execution_count": 25,
   "metadata": {},
   "outputs": [
    {
     "data": {
      "text/plain": [
       "[2, 4, 6, 8, 10]"
      ]
     },
     "execution_count": 25,
     "metadata": {},
     "output_type": "execute_result"
    }
   ],
   "source": [
    "numbers = range(1, 11)\n",
    "\n",
    "odds = [\n",
    "    n \n",
    "    for n in numbers \n",
    "    if n % 2 == 0\n",
    "]\n",
    "\n",
    "odds"
   ]
  },
  {
   "cell_type": "markdown",
   "metadata": {},
   "source": [
    "#### Dynamic matrix\n",
    "\n",
    " * https://docs.python.org/3/tutorial/datastructures.html#list-comprehensions\n",
    "\n",
    " * http://python-3-patterns-idioms-test.readthedocs.io/"
   ]
  },
  {
   "cell_type": "code",
   "execution_count": 26,
   "metadata": {},
   "outputs": [
    {
     "data": {
      "text/plain": [
       "[[1, 0, 0, 0, 0, 0, 0, 0],\n",
       " [0, 1, 0, 0, 0, 0, 0, 0],\n",
       " [0, 0, 1, 0, 0, 0, 0, 0],\n",
       " [0, 0, 0, 1, 0, 0, 0, 0],\n",
       " [0, 0, 0, 0, 1, 0, 0, 0],\n",
       " [0, 0, 0, 0, 0, 1, 0, 0],\n",
       " [0, 0, 0, 0, 0, 0, 1, 0],\n",
       " [0, 0, 0, 0, 0, 0, 0, 1]]"
      ]
     },
     "execution_count": 26,
     "metadata": {},
     "output_type": "execute_result"
    }
   ],
   "source": [
    "matrix = [\n",
    "    [\n",
    "        1 if item_idx == row_idx else 0 \n",
    "        for item_idx in range(0, 8)\n",
    "    ]\n",
    "    for row_idx in range(0, 8)\n",
    "]\n",
    "\n",
    "matrix"
   ]
  },
  {
   "cell_type": "markdown",
   "metadata": {
    "collapsed": true
   },
   "source": [
    "### Matrices"
   ]
  },
  {
   "cell_type": "code",
   "execution_count": 27,
   "metadata": {},
   "outputs": [
    {
     "data": {
      "text/plain": [
       "[[0, 1, 2], [3, 4, 5], [6, 7, 8]]"
      ]
     },
     "execution_count": 27,
     "metadata": {},
     "output_type": "execute_result"
    }
   ],
   "source": [
    "matrix = [[1, 2, 3], [4, 5, 6], [7, 8, 9]]\n",
    "\n",
    "[[el - 1 for el in row] for row in matrix]"
   ]
  },
  {
   "cell_type": "markdown",
   "metadata": {},
   "source": [
    "### Tuples"
   ]
  },
  {
   "cell_type": "code",
   "execution_count": 28,
   "metadata": {},
   "outputs": [
    {
     "data": {
      "text/plain": [
       "[('2016-05-18T16:03:00Z', 100.0),\n",
       " ('2016-05-18T17:20:00Z', 2.5),\n",
       " ('2016-05-18T13:00:00Z', 333.0)]"
      ]
     },
     "execution_count": 28,
     "metadata": {},
     "output_type": "execute_result"
    }
   ],
   "source": [
    "# Tuples are immutable.\n",
    "\n",
    "data = (['2016-05-18T16:03:00Z', '2016-05-18T17:20:00Z', '2016-05-18T13:00:00Z'], [100, 2.5, 333])\n",
    "\n",
    "payments = data[1];\n",
    "\n",
    "conversion = [float(x) for x in payments]\n",
    "\n",
    "result = list(zip(data[0], conversion))\n",
    "\n",
    "result"
   ]
  },
  {
   "cell_type": "code",
   "execution_count": 29,
   "metadata": {},
   "outputs": [
    {
     "data": {
      "text/plain": [
       "[('2016-05-18T16:03:00Z', 100.0),\n",
       " ('2016-05-18T17:20:00Z', 2.5),\n",
       " ('2016-05-18T13:00:00Z', 333.0)]"
      ]
     },
     "execution_count": 29,
     "metadata": {},
     "output_type": "execute_result"
    }
   ],
   "source": [
    "# Yep, tuples are immutable.\n",
    "\n",
    "data = (['2016-05-18T16:03:00Z', '2016-05-18T17:20:00Z', '2016-05-18T13:00:00Z'], [100, 2.5, 333])\n",
    "\n",
    "# Lists are mutable.\n",
    "\n",
    "mutable = list(data)\n",
    "\n",
    "payments = data[1]\n",
    "\n",
    "mutable[1] = [float(x) for x in payments]\n",
    "\n",
    "tuples = list(zip(*mutable))\n",
    "\n",
    "tuples"
   ]
  },
  {
   "cell_type": "markdown",
   "metadata": {},
   "source": [
    "## Del"
   ]
  },
  {
   "cell_type": "code",
   "execution_count": 30,
   "metadata": {},
   "outputs": [
    {
     "name": "stdout",
     "output_type": "stream",
     "text": [
      "[1, 2, 3, 4, 5, 6, 7, 8, 9, 10]\n",
      "[1, 2, 3, 4, 5, 6, 7, 8, 9]\n",
      "[2, 3, 4, 5, 6, 7, 8, 9]\n",
      "[2, 3, 6, 7, 8, 9]\n",
      "[]\n"
     ]
    }
   ],
   "source": [
    "numbers = list(range(1, 11))\n",
    "\n",
    "print(numbers)\n",
    "\n",
    "del numbers[len(numbers) - 1]\n",
    "\n",
    "print(numbers)\n",
    "\n",
    "del numbers[0]\n",
    "\n",
    "print(numbers)\n",
    "\n",
    "del numbers[2:4]\n",
    "\n",
    "print(numbers)\n",
    "\n",
    "# []\n",
    "\n",
    "del numbers[:]\n",
    "\n",
    "print(numbers)\n",
    "\n",
    "# Delete entire variable.\n",
    "\n",
    "del numbers"
   ]
  },
  {
   "cell_type": "markdown",
   "metadata": {},
   "source": [
    "## Immutable Tuples and Sequences\n",
    "\n",
    "Are indexed by a range of numbers."
   ]
  },
  {
   "cell_type": "code",
   "execution_count": 31,
   "metadata": {},
   "outputs": [
    {
     "data": {
      "text/plain": [
       "9"
      ]
     },
     "execution_count": 31,
     "metadata": {},
     "output_type": "execute_result"
    }
   ],
   "source": [
    "separated_by_commas = 333, 'three three three', [3, 6, 9], (3 ,6 ,9)\n",
    "\n",
    "separated_by_commas\n",
    "\n",
    "separated_by_commas[3]\n",
    "\n",
    "separated_by_commas[3][2]"
   ]
  },
  {
   "cell_type": "code",
   "execution_count": 32,
   "metadata": {},
   "outputs": [
    {
     "data": {
      "text/plain": [
       "('cow', [2, 4, 6], (111, 222, 333))"
      ]
     },
     "execution_count": 32,
     "metadata": {},
     "output_type": "execute_result"
    }
   ],
   "source": [
    "# It is possible to create tuples which contain mutable objects, such as lists.\n",
    "\n",
    "my_tuple = ('cow', [333, 4, 6], (111, 222, 333))\n",
    "\n",
    "# my_tuple[0] = 'dog'  =>  'tuple' object does not support item assignment.\n",
    "\n",
    "my_tuple[1][0] = 2\n",
    "\n",
    "# my_tuple[2][0] = 2  =>  'tuple' object does not support item assignment.\n",
    "\n",
    "my_tuple"
   ]
  },
  {
   "cell_type": "code",
   "execution_count": 33,
   "metadata": {},
   "outputs": [
    {
     "data": {
      "text/plain": [
       "('one', 'two', 'three', 1, 2, 3, 4.4, 5.5, 6.6)"
      ]
     },
     "execution_count": 33,
     "metadata": {},
     "output_type": "execute_result"
    }
   ],
   "source": [
    "first_tuple = 'one', 'two', 'three'\n",
    "\n",
    "second_tuple = 1, 2, 3\n",
    "\n",
    "third_tuple = 4.4, 5.5, 6.6\n",
    "\n",
    "result = first_tuple + second_tuple + third_tuple\n",
    "\n",
    "result"
   ]
  },
  {
   "cell_type": "code",
   "execution_count": 34,
   "metadata": {},
   "outputs": [
    {
     "name": "stdout",
     "output_type": "stream",
     "text": [
      "()\n",
      "0\n"
     ]
    }
   ],
   "source": [
    "# Empty tuples are constructed by an empty pair of parentheses.\n",
    "\n",
    "empty = ()\n",
    "\n",
    "print(empty)\n",
    "\n",
    "print(len(empty))"
   ]
  },
  {
   "cell_type": "code",
   "execution_count": 35,
   "metadata": {},
   "outputs": [
    {
     "name": "stdout",
     "output_type": "stream",
     "text": [
      "(333,)\n",
      "1\n"
     ]
    }
   ],
   "source": [
    "# A tuple with one item is constructed by following a value with a comma.\n",
    "\n",
    "trailing_comma = 333,\n",
    "\n",
    "print(trailing_comma)\n",
    "\n",
    "print(len(trailing_comma))"
   ]
  },
  {
   "cell_type": "markdown",
   "metadata": {},
   "source": [
    "### Tuple Packing"
   ]
  },
  {
   "cell_type": "code",
   "execution_count": 36,
   "metadata": {},
   "outputs": [
    {
     "name": "stdout",
     "output_type": "stream",
     "text": [
      "('Tesla', 'Model 3', 2017)\n",
      "Tesla <class 'str'>\n",
      "Model 3 <class 'str'>\n",
      "2017 <class 'int'>\n"
     ]
    }
   ],
   "source": [
    "vehicle = ('Tesla', 'Model 3', 2017)\n",
    "\n",
    "print(vehicle)\n",
    "\n",
    "(make, model, year) = vehicle\n",
    "\n",
    "print(make, type(make))\n",
    "\n",
    "print(model, type(model))\n",
    "\n",
    "print(year, type(year))"
   ]
  },
  {
   "cell_type": "code",
   "execution_count": 37,
   "metadata": {},
   "outputs": [
    {
     "name": "stdout",
     "output_type": "stream",
     "text": [
      "1 <class 'int'>\n",
      "10 <class 'int'>\n"
     ]
    }
   ],
   "source": [
    "# Swap the values of two variables.\n",
    "\n",
    "min = 10\n",
    "\n",
    "max = 1\n",
    "\n",
    "(min, max) = (max, min)\n",
    "\n",
    "print(min, type(min))\n",
    "\n",
    "print(max, type(max))"
   ]
  },
  {
   "cell_type": "code",
   "execution_count": 38,
   "metadata": {},
   "outputs": [
    {
     "name": "stdout",
     "output_type": "stream",
     "text": [
      "Tesla Model 3 2017\n",
      "2017 Model 3 Tesla\n"
     ]
    }
   ],
   "source": [
    "# Tuples as return values.\n",
    "\n",
    "def vehicle():\n",
    "    get_make = 'Tesla'\n",
    "    get_model = 'Model 3'\n",
    "    get_year = 2017\n",
    "    return (get_make, get_model, get_year)\n",
    "\n",
    "(my_make, my_model, my_year) = vehicle()\n",
    "\n",
    "print('{} {} {}'.format(my_make, my_model, my_year))\n",
    "\n",
    "print('{2} {1} {0}'.format(my_make, my_model, my_year))"
   ]
  },
  {
   "cell_type": "markdown",
   "metadata": {},
   "source": [
    "## Sets\n",
    "\n",
    "A set is an unordered collection with no duplicate elements."
   ]
  },
  {
   "cell_type": "code",
   "execution_count": 39,
   "metadata": {},
   "outputs": [
    {
     "name": "stdout",
     "output_type": "stream",
     "text": [
      "set()\n"
     ]
    }
   ],
   "source": [
    "# To create an empty set you have to use set(), not {}.\n",
    "\n",
    "empty_set = set()\n",
    "\n",
    "print(empty_set)"
   ]
  },
  {
   "cell_type": "code",
   "execution_count": 40,
   "metadata": {},
   "outputs": [
    {
     "name": "stdout",
     "output_type": "stream",
     "text": [
      "{'2', 'b', 'a', '1', ',', '3', 'c'}\n"
     ]
    }
   ],
   "source": [
    "chars = set('123,abc,abc,abc,123')\n",
    "\n",
    "print(chars)"
   ]
  },
  {
   "cell_type": "code",
   "execution_count": 41,
   "metadata": {},
   "outputs": [
    {
     "name": "stdout",
     "output_type": "stream",
     "text": [
      "{1, 2, 3, 4, 5}\n",
      "{4, 5, 6, 7, 8, 9, 10}\n"
     ]
    }
   ],
   "source": [
    "unique = set([1,2,3,4,5,4,3,2,1])\n",
    "\n",
    "print(unique)\n",
    "\n",
    "unordered = {7, 9, 6, 8, 4, 5, 10}\n",
    "\n",
    "print(unordered)"
   ]
  },
  {
   "cell_type": "code",
   "execution_count": 42,
   "metadata": {},
   "outputs": [
    {
     "data": {
      "text/plain": [
       "False"
      ]
     },
     "execution_count": 42,
     "metadata": {},
     "output_type": "execute_result"
    }
   ],
   "source": [
    "# Fast membership testing.\n",
    "\n",
    "'1' in unique"
   ]
  },
  {
   "cell_type": "code",
   "execution_count": 43,
   "metadata": {},
   "outputs": [
    {
     "data": {
      "text/plain": [
       "True"
      ]
     },
     "execution_count": 43,
     "metadata": {},
     "output_type": "execute_result"
    }
   ],
   "source": [
    "1 in unique"
   ]
  },
  {
   "cell_type": "code",
   "execution_count": 44,
   "metadata": {},
   "outputs": [
    {
     "data": {
      "text/plain": [
       "True"
      ]
     },
     "execution_count": 44,
     "metadata": {},
     "output_type": "execute_result"
    }
   ],
   "source": [
    "# Fast membership testing.\n",
    "\n",
    "10 in unordered"
   ]
  },
  {
   "cell_type": "code",
   "execution_count": 45,
   "metadata": {},
   "outputs": [
    {
     "data": {
      "text/plain": [
       "{1, 2, 3}"
      ]
     },
     "execution_count": 45,
     "metadata": {},
     "output_type": "execute_result"
    }
   ],
   "source": [
    "# Numbers in unique but not in unordered.\n",
    "\n",
    "unique - unordered"
   ]
  },
  {
   "cell_type": "code",
   "execution_count": 46,
   "metadata": {},
   "outputs": [
    {
     "data": {
      "text/plain": [
       "{6, 7, 8, 9, 10}"
      ]
     },
     "execution_count": 46,
     "metadata": {},
     "output_type": "execute_result"
    }
   ],
   "source": [
    "# Numbers in unordered but not in unique.\n",
    "\n",
    "unordered - unique"
   ]
  },
  {
   "cell_type": "code",
   "execution_count": 47,
   "metadata": {},
   "outputs": [
    {
     "data": {
      "text/plain": [
       "{4, 5}"
      ]
     },
     "execution_count": 47,
     "metadata": {},
     "output_type": "execute_result"
    }
   ],
   "source": [
    "{x for x in unique if x not in [1, 2, 3]}"
   ]
  },
  {
   "cell_type": "markdown",
   "metadata": {},
   "source": [
    "### List, Tuple and Set"
   ]
  },
  {
   "cell_type": "code",
   "execution_count": 48,
   "metadata": {},
   "outputs": [
    {
     "name": "stdout",
     "output_type": "stream",
     "text": [
      "[1, 2, 3, 4, 5, 6, 7, 8, 9, 10]\n",
      "(1, 2, 3, 4, 5, 6, 7, 8, 9, 10)\n",
      "{1, 2, 3, 4, 5, 6, 7, 8, 9, 10}\n"
     ]
    }
   ],
   "source": [
    "numbers = range(1, 11)\n",
    "\n",
    "print(list(numbers))\n",
    "\n",
    "print(tuple(numbers))\n",
    "\n",
    "print(set(numbers))"
   ]
  },
  {
   "cell_type": "markdown",
   "metadata": {},
   "source": [
    "### Set Comprehensions"
   ]
  },
  {
   "cell_type": "code",
   "execution_count": 49,
   "metadata": {},
   "outputs": [
    {
     "name": "stdout",
     "output_type": "stream",
     "text": [
      "{1, 2, 3, 4, 5, 6, 7, 8, 9, 10}\n"
     ]
    }
   ],
   "source": [
    "numbers = set(range(1, 11))\n",
    "\n",
    "print(numbers)"
   ]
  },
  {
   "cell_type": "markdown",
   "metadata": {},
   "source": [
    "## Dictionaries (associative memories or associative arrays)\n",
    "\n",
    "Are indexed by keys, which can be any immutable type {'key': 'value'}."
   ]
  },
  {
   "cell_type": "code",
   "execution_count": 50,
   "metadata": {},
   "outputs": [
    {
     "name": "stdout",
     "output_type": "stream",
     "text": [
      "Guido van Rossum\n",
      "61\n",
      "Benevolent Dictator For Life\n"
     ]
    }
   ],
   "source": [
    "person = {'name': 'Guido van Rossum', 'age': 61, 'occupation': 'Benevolent Dictator For Life'}\n",
    "\n",
    "print(person['name'])\n",
    "\n",
    "print(person['age'])\n",
    "\n",
    "print(person['occupation'])"
   ]
  },
  {
   "cell_type": "code",
   "execution_count": 51,
   "metadata": {},
   "outputs": [
    {
     "name": "stdout",
     "output_type": "stream",
     "text": [
      "{'name': 'Guido van Rossum', 'age': 61, 'occupation': 'Benevolent Dictator For Life'}\n"
     ]
    }
   ],
   "source": [
    "print(person)"
   ]
  },
  {
   "cell_type": "code",
   "execution_count": 52,
   "metadata": {},
   "outputs": [
    {
     "name": "stdout",
     "output_type": "stream",
     "text": [
      "dict_values(['Guido van Rossum', 61, 'Benevolent Dictator For Life'])\n"
     ]
    }
   ],
   "source": [
    "values = person.values()\n",
    "\n",
    "print(values)"
   ]
  },
  {
   "cell_type": "code",
   "execution_count": 53,
   "metadata": {},
   "outputs": [
    {
     "name": "stdout",
     "output_type": "stream",
     "text": [
      "dict_keys(['name', 'age', 'occupation'])\n",
      "['age', 'name', 'occupation']\n"
     ]
    }
   ],
   "source": [
    "keys = person.keys()\n",
    "\n",
    "print(keys)\n",
    "\n",
    "print(sorted(keys))"
   ]
  },
  {
   "cell_type": "code",
   "execution_count": 54,
   "metadata": {},
   "outputs": [
    {
     "name": "stdout",
     "output_type": "stream",
     "text": [
      "dict_items([('name', 'Guido van Rossum'), ('age', 61), ('occupation', 'Benevolent Dictator For Life')])\n"
     ]
    }
   ],
   "source": [
    "items = person.items()\n",
    "\n",
    "print(items)"
   ]
  },
  {
   "cell_type": "code",
   "execution_count": 55,
   "metadata": {},
   "outputs": [
    {
     "name": "stdout",
     "output_type": "stream",
     "text": [
      "[('name', 'Guido van Rossum'), ('age', 61), ('occupation', 'Benevolent Dictator For Life')]\n"
     ]
    }
   ],
   "source": [
    "print(list(items))"
   ]
  },
  {
   "cell_type": "code",
   "execution_count": 56,
   "metadata": {},
   "outputs": [
    {
     "name": "stdout",
     "output_type": "stream",
     "text": [
      "('name', 'Guido van Rossum')\n",
      "('age', 61)\n",
      "('occupation', 'Benevolent Dictator For Life')\n"
     ]
    }
   ],
   "source": [
    "items = list(items)\n",
    "\n",
    "print(items[0])\n",
    "\n",
    "print(items[1])\n",
    "\n",
    "print(items[2])"
   ]
  },
  {
   "cell_type": "code",
   "execution_count": 57,
   "metadata": {},
   "outputs": [
    {
     "name": "stdout",
     "output_type": "stream",
     "text": [
      "Guido van Rossum\n"
     ]
    }
   ],
   "source": [
    "name = person.get('name')\n",
    "\n",
    "print(name)"
   ]
  },
  {
   "cell_type": "code",
   "execution_count": 58,
   "metadata": {},
   "outputs": [
    {
     "name": "stdout",
     "output_type": "stream",
     "text": [
      "default\n"
     ]
    }
   ],
   "source": [
    "name = person.get('username', 'default')\n",
    "\n",
    "print(name)"
   ]
  },
  {
   "cell_type": "code",
   "execution_count": 59,
   "metadata": {},
   "outputs": [
    {
     "data": {
      "text/plain": [
       "True"
      ]
     },
     "execution_count": 59,
     "metadata": {},
     "output_type": "execute_result"
    }
   ],
   "source": [
    "'age' in person"
   ]
  },
  {
   "cell_type": "code",
   "execution_count": 60,
   "metadata": {},
   "outputs": [
    {
     "data": {
      "text/plain": [
       "False"
      ]
     },
     "execution_count": 60,
     "metadata": {},
     "output_type": "execute_result"
    }
   ],
   "source": [
    "'username' in person"
   ]
  },
  {
   "cell_type": "code",
   "execution_count": 61,
   "metadata": {},
   "outputs": [
    {
     "name": "stdout",
     "output_type": "stream",
     "text": [
      "{'name': 'Guido van Rossum', 'age': 61, 'occupation': 'Author of Python'}\n"
     ]
    }
   ],
   "source": [
    "person['occupation'] = 'Author of Python'\n",
    "\n",
    "print(person)"
   ]
  },
  {
   "cell_type": "markdown",
   "metadata": {},
   "source": [
    "### Build a dictionary directly from sequences of simple key-value pairs"
   ]
  },
  {
   "cell_type": "code",
   "execution_count": 62,
   "metadata": {},
   "outputs": [
    {
     "name": "stdout",
     "output_type": "stream",
     "text": [
      "{'name': 'Guido van Rossum', 'age': 61, 'occupation': 'Benevolent Dictator For Life'}\n"
     ]
    }
   ],
   "source": [
    "person = dict(\n",
    "    [\n",
    "        ('name', 'Guido van Rossum'), \n",
    "        ('age', 61), \n",
    "        ('occupation', 'Benevolent Dictator For Life')\n",
    "    ]\n",
    ")\n",
    "\n",
    "print(person)"
   ]
  },
  {
   "cell_type": "markdown",
   "metadata": {},
   "source": [
    "### Use a dict comprehension to create a dictionarys from arbitrary key and value expressions"
   ]
  },
  {
   "cell_type": "code",
   "execution_count": 63,
   "metadata": {},
   "outputs": [
    {
     "name": "stdout",
     "output_type": "stream",
     "text": [
      "['name', 'age', 'occupation']\n",
      "['Guido van Rossum', 61, 'Author of Python']\n"
     ]
    }
   ],
   "source": [
    "keys = ['name', 'age', 'occupation']\n",
    "\n",
    "values = ['Guido van Rossum', 61, 'Author of Python']\n",
    "\n",
    "print(keys)\n",
    "\n",
    "print(values)"
   ]
  },
  {
   "cell_type": "code",
   "execution_count": 64,
   "metadata": {},
   "outputs": [
    {
     "name": "stdout",
     "output_type": "stream",
     "text": [
      "{'name': 'Guido van Rossum', 'age': 61, 'occupation': 'Author of Python'}\n"
     ]
    }
   ],
   "source": [
    "dictionary = dict(zip(keys, values))\n",
    "\n",
    "print(dictionary)"
   ]
  },
  {
   "cell_type": "code",
   "execution_count": 65,
   "metadata": {},
   "outputs": [
    {
     "name": "stdout",
     "output_type": "stream",
     "text": [
      "{'name': 'Guido van Rossum', 'age': 61, 'occupation': 'Author of Python'}\n"
     ]
    }
   ],
   "source": [
    "# Dictionary Comprehension.\n",
    "\n",
    "dictionary = { k:v for (k,v) in zip(keys, values)}\n",
    "\n",
    "print(dictionary)"
   ]
  },
  {
   "cell_type": "code",
   "execution_count": 66,
   "metadata": {},
   "outputs": [
    {
     "name": "stdout",
     "output_type": "stream",
     "text": [
      "{'c': 3}\n"
     ]
    }
   ],
   "source": [
    "d = {'a':1,'b':2,'c':3}\n",
    "\n",
    "d = {k: v for (k, v) in d.items() if v > 2}\n",
    "\n",
    "print(d)"
   ]
  },
  {
   "cell_type": "code",
   "execution_count": 67,
   "metadata": {},
   "outputs": [
    {
     "name": "stdout",
     "output_type": "stream",
     "text": [
      "{'cc': 6}\n"
     ]
    }
   ],
   "source": [
    "d = {'a':1,'b':2,'c':3}\n",
    "\n",
    "d = {k + 'c': v * 2 for (k, v) in d.items() if v > 2}\n",
    "\n",
    "print(d)"
   ]
  },
  {
   "cell_type": "markdown",
   "metadata": {},
   "source": [
    "### Combine multiple dictionaries"
   ]
  },
  {
   "cell_type": "code",
   "execution_count": 68,
   "metadata": {},
   "outputs": [
    {
     "name": "stdout",
     "output_type": "stream",
     "text": [
      "{'name': 'Guido van Rossum', 'page_name': 'Personal Home Page', 'website': 'https://gvanrossum.github.io/'}\n"
     ]
    }
   ],
   "source": [
    "user = {'name': 'Guido van Rossum', 'website': 'https://gvanrossum.github.io/'}\n",
    "\n",
    "defaults = {'name': \"Benevolent Dictator For Life\", 'page_name': 'Personal Home Page'}\n",
    "\n",
    "context = {**defaults, **user}\n",
    "\n",
    "print(context)"
   ]
  },
  {
   "cell_type": "markdown",
   "metadata": {},
   "source": [
    "## Looping Techniques"
   ]
  },
  {
   "cell_type": "code",
   "execution_count": 69,
   "metadata": {},
   "outputs": [
    {
     "name": "stdout",
     "output_type": "stream",
     "text": [
      "[(0, 'tic'), (1, 'tac'), (2, 'toe')]\n"
     ]
    }
   ],
   "source": [
    "game = enumerate(['tic', 'tac', 'toe'])\n",
    "\n",
    "print(list(game))"
   ]
  },
  {
   "cell_type": "code",
   "execution_count": 70,
   "metadata": {},
   "outputs": [
    {
     "name": "stdout",
     "output_type": "stream",
     "text": [
      "0 tic\n",
      "1 tac\n",
      "2 toe\n"
     ]
    }
   ],
   "source": [
    "# Through a sequence.\n",
    "\n",
    "game = enumerate(['tic', 'tac', 'toe'])\n",
    "\n",
    "for i, v in game:\n",
    "    print(i, v)"
   ]
  },
  {
   "cell_type": "code",
   "execution_count": 71,
   "metadata": {},
   "outputs": [
    {
     "name": "stdout",
     "output_type": "stream",
     "text": [
      "What is your What is your name? Guido van Rossum.\n",
      "What is your What do you do? A Benevolent Dictator For Life.\n",
      "What is your What would you like to drink? Beer.\n"
     ]
    }
   ],
   "source": [
    "# Over two or more sequences at the same time.\n",
    "\n",
    "questions = ['What is your name', 'What do you do', 'What would you like to drink']\n",
    "\n",
    "answers = ['Guido van Rossum', 'A Benevolent Dictator For Life', 'Beer']\n",
    "\n",
    "# The entries can be paired with the zip() function.\n",
    "\n",
    "for q, a in zip(questions, answers):\n",
    "    print('What is your {0}? {1}.'.format(q, a))"
   ]
  },
  {
   "cell_type": "code",
   "execution_count": 72,
   "metadata": {},
   "outputs": [
    {
     "name": "stdout",
     "output_type": "stream",
     "text": [
      "Animalia  =>  Linnaeus\n",
      "Plantae  =>  Haeckel\n",
      "Fungi  =>  Whittaker\n",
      "Bacteria  =>  Cavalier-Smith\n"
     ]
    }
   ],
   "source": [
    "group = {'Animalia': 'Linnaeus', 'Plantae': 'Haeckel', 'Fungi': 'Whittaker', 'Bacteria' : 'Cavalier-Smith'}\n",
    "\n",
    "for k, v in group.items():\n",
    "    print(k, ' => ', v)"
   ]
  },
  {
   "cell_type": "code",
   "execution_count": 73,
   "metadata": {},
   "outputs": [
    {
     "name": "stdout",
     "output_type": "stream",
     "text": [
      "Animalia\n",
      "Archaea\n",
      "Bacteria\n",
      "Chromista\n",
      "Fungi\n",
      "Plantae\n",
      "Protozoa\n"
     ]
    }
   ],
   "source": [
    "kingdoms = ['Bacteria', 'Archaea', 'Protozoa', 'Chromista', 'Plantae', 'Fungi', 'Animalia']\n",
    "\n",
    "for f in sorted(set(kingdoms)):\n",
    "    print(f)"
   ]
  },
  {
   "cell_type": "markdown",
   "metadata": {},
   "source": [
    "It is sometimes tempting to change a list while you are looping over it; however, it is often simpler and safer to create a new list instead."
   ]
  },
  {
   "cell_type": "code",
   "execution_count": 74,
   "metadata": {},
   "outputs": [
    {
     "name": "stdout",
     "output_type": "stream",
     "text": [
      "[56.2, nan, 51.7, 55.3, 52.5, nan, 47.8]\n",
      "[56.2, 51.7, 55.3, 52.5, 47.8]\n",
      "[47.8, 51.7, 52.5, 55.3, 56.2]\n"
     ]
    }
   ],
   "source": [
    "import math\n",
    "\n",
    "raw_data = [56.2, float('NaN'), 51.7, 55.3, 52.5, float('NaN'), 47.8]\n",
    "\n",
    "print(raw_data)\n",
    "\n",
    "filtered_data = []\n",
    "\n",
    "for value in raw_data:\n",
    "    if not math.isnan(value):\n",
    "        filtered_data.append(value)\n",
    "\n",
    "print(filtered_data)\n",
    "\n",
    "print(sorted(filtered_data))"
   ]
  },
  {
   "cell_type": "markdown",
   "metadata": {},
   "source": [
    "## Conditions\n",
    "\n",
    " * Sequence: `in` and `not` in check whether a value occurs (does not occur).\n",
    "\n",
    "\n",
    " * Lists: `is` and `is not` compare whether two objects are really the same object.\n",
    "\n",
    "\n",
    " * All comparison operators have the same priority, which is lower than that of all numerical operators.\n",
    "\n",
    "\n",
    " * Comparisons can be chained. For example, `a < b == c` tests whether a is less than b and moreover b equals c.\n",
    "\n",
    "\n",
    " * Comparisons may be combined using the Boolean operators `and` and `or`, and the outcome of a comparison (or of any other Boolean expression) may be negated with `not`. These have lower priorities than comparison operators; between them, `not` has the highest priority and `or` the lowest, so that `A and not B or C` is equivalent to `(A and (not B)) or C`. As always, parentheses can be used to express the desired composition.\n",
    "\n",
    "\n",
    " * The Boolean operators `and` and `or` are so-called short-circuit operators: their arguments are evaluated from left to right, and evaluation stops as soon as the outcome is determined. For example, if A and C are true but B is false, A and B and C does not evaluate the expression C. When used as a general value and not as a Boolean, the return value of a short-circuit operator is the last evaluated argument.\n",
    "\n"
   ]
  },
  {
   "cell_type": "code",
   "execution_count": 75,
   "metadata": {},
   "outputs": [
    {
     "name": "stdout",
     "output_type": "stream",
     "text": [
      " string1 =>  \n",
      " string2 =>  Guido\n",
      " string1 or string2 =>  Guido\n",
      " string1 or string2 or string3 =>  Guido\n"
     ]
    }
   ],
   "source": [
    "string1, string2, string3 = '', 'Guido', 'van Rossum'\n",
    "\n",
    "non_null = string1\n",
    "\n",
    "print(' string1 => ', non_null)\n",
    "\n",
    "non_null = string2\n",
    "\n",
    "print(' string2 => ', non_null)\n",
    "\n",
    "non_null = string1 or string2\n",
    "\n",
    "print(' string1 or string2 => ', non_null)\n",
    "\n",
    "non_null = string1 or string2 or string3\n",
    "\n",
    "print(' string1 or string2 or string3 => ', non_null)"
   ]
  },
  {
   "cell_type": "markdown",
   "metadata": {},
   "source": [
    "## Comparing Sequences and Other Types\n",
    "\n",
    " * Sequence objects may be compared to other objects with the same sequence type. \n",
    "\n",
    "\n",
    " * The comparison uses lexicographical ordering: first the first two items are compared, and if they differ this determines the outcome of the comparison; if they are equal, the next two items are compared, and so on, until either sequence is exhausted. \n",
    "\n",
    "\n",
    " * If two items to be compared are themselves sequences of the same type, the lexicographical comparison is carried out recursively. \n",
    "\n",
    "\n",
    " * If all items of two sequences compare equal, the sequences are considered equal. \n",
    "\n",
    "\n",
    " * If one sequence is an initial sub-sequence of the other, the shorter sequence is the smaller (lesser) one. \n",
    "\n",
    "\n",
    " * Lexicographical ordering for strings uses the Unicode code point number to order individual characters."
   ]
  },
  {
   "cell_type": "code",
   "execution_count": 76,
   "metadata": {},
   "outputs": [
    {
     "data": {
      "text/plain": [
       "True"
      ]
     },
     "execution_count": 76,
     "metadata": {},
     "output_type": "execute_result"
    }
   ],
   "source": [
    "(1, 2, 3) < (1, 2, 4)"
   ]
  },
  {
   "cell_type": "code",
   "execution_count": 77,
   "metadata": {},
   "outputs": [
    {
     "data": {
      "text/plain": [
       "False"
      ]
     },
     "execution_count": 77,
     "metadata": {},
     "output_type": "execute_result"
    }
   ],
   "source": [
    "(1, 2, 5) < (1, 2, 4)"
   ]
  },
  {
   "cell_type": "code",
   "execution_count": 78,
   "metadata": {},
   "outputs": [
    {
     "data": {
      "text/plain": [
       "True"
      ]
     },
     "execution_count": 78,
     "metadata": {},
     "output_type": "execute_result"
    }
   ],
   "source": [
    "[1, 2, 3] < [1, 2, 4]"
   ]
  },
  {
   "cell_type": "code",
   "execution_count": 79,
   "metadata": {},
   "outputs": [
    {
     "data": {
      "text/plain": [
       "False"
      ]
     },
     "execution_count": 79,
     "metadata": {},
     "output_type": "execute_result"
    }
   ],
   "source": [
    "[1, 2, 5] < [1, 2, 4]"
   ]
  },
  {
   "cell_type": "code",
   "execution_count": 80,
   "metadata": {},
   "outputs": [
    {
     "data": {
      "text/plain": [
       "False"
      ]
     },
     "execution_count": 80,
     "metadata": {},
     "output_type": "execute_result"
    }
   ],
   "source": [
    "'ABC' < 'A'"
   ]
  },
  {
   "cell_type": "code",
   "execution_count": 81,
   "metadata": {},
   "outputs": [
    {
     "data": {
      "text/plain": [
       "True"
      ]
     },
     "execution_count": 81,
     "metadata": {},
     "output_type": "execute_result"
    }
   ],
   "source": [
    "'ABC' < 'B'"
   ]
  },
  {
   "cell_type": "code",
   "execution_count": 82,
   "metadata": {},
   "outputs": [
    {
     "data": {
      "text/plain": [
       "True"
      ]
     },
     "execution_count": 82,
     "metadata": {},
     "output_type": "execute_result"
    }
   ],
   "source": [
    "'ABC' < 'C'"
   ]
  },
  {
   "cell_type": "code",
   "execution_count": 83,
   "metadata": {},
   "outputs": [
    {
     "data": {
      "text/plain": [
       "True"
      ]
     },
     "execution_count": 83,
     "metadata": {},
     "output_type": "execute_result"
    }
   ],
   "source": [
    "'ABC' < 'C' < 'Pascal' < 'Python'"
   ]
  },
  {
   "cell_type": "code",
   "execution_count": 84,
   "metadata": {},
   "outputs": [
    {
     "data": {
      "text/plain": [
       "True"
      ]
     },
     "execution_count": 84,
     "metadata": {},
     "output_type": "execute_result"
    }
   ],
   "source": [
    "(1, 2) < (1, 2, -1)"
   ]
  },
  {
   "cell_type": "code",
   "execution_count": 85,
   "metadata": {},
   "outputs": [
    {
     "data": {
      "text/plain": [
       "True"
      ]
     },
     "execution_count": 85,
     "metadata": {},
     "output_type": "execute_result"
    }
   ],
   "source": [
    "(1, 2, 3) == (1.0, 2.0, 3.0)"
   ]
  },
  {
   "cell_type": "code",
   "execution_count": 86,
   "metadata": {},
   "outputs": [
    {
     "data": {
      "text/plain": [
       "True"
      ]
     },
     "execution_count": 86,
     "metadata": {},
     "output_type": "execute_result"
    }
   ],
   "source": [
    "(1, 2, ('aa', 'ab')) < (1, 2, ('abc', 'a'), 4)"
   ]
  }
 ],
 "metadata": {
  "kernelspec": {
   "display_name": "Python 3",
   "language": "python",
   "name": "python3"
  },
  "language_info": {
   "codemirror_mode": {
    "name": "ipython",
    "version": 3
   },
   "file_extension": ".py",
   "mimetype": "text/x-python",
   "name": "python",
   "nbconvert_exporter": "python",
   "pygments_lexer": "ipython3",
   "version": "3.6.1"
  }
 },
 "nbformat": 4,
 "nbformat_minor": 2
}
